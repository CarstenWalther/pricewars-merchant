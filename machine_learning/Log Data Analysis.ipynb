{
 "cells": [
  {
   "cell_type": "code",
   "execution_count": 2,
   "metadata": {
    "collapsed": false
   },
   "outputs": [
    {
     "name": "stderr",
     "output_type": "stream",
     "text": [
      "/usr/local/lib/python3.6/site-packages/matplotlib/font_manager.py:280: UserWarning: Matplotlib is building the font cache using fc-list. This may take a moment.\n",
      "  'Matplotlib is building the font cache using fc-list. '\n"
     ]
    }
   ],
   "source": [
    "import numpy as np\n",
    "import pandas as pd\n",
    "import matplotlib.pyplot as plt"
   ]
  },
  {
   "cell_type": "code",
   "execution_count": 12,
   "metadata": {
    "collapsed": false,
    "scrolled": true
   },
   "outputs": [
    {
     "data": {
      "text/html": [
       "<div>\n",
       "<table border=\"1\" class=\"dataframe\">\n",
       "  <thead>\n",
       "    <tr style=\"text-align: right;\">\n",
       "      <th></th>\n",
       "      <th>Unnamed: 0</th>\n",
       "      <th>amount_of_all_competitors</th>\n",
       "      <th>average_price_on_market</th>\n",
       "      <th>own_price</th>\n",
       "      <th>price_rank</th>\n",
       "      <th>quality_rank</th>\n",
       "      <th>sold</th>\n",
       "      <th>timestamp</th>\n",
       "    </tr>\n",
       "  </thead>\n",
       "  <tbody>\n",
       "    <tr>\n",
       "      <th>0</th>\n",
       "      <td>0</td>\n",
       "      <td>0</td>\n",
       "      <td>6.43</td>\n",
       "      <td>6.43</td>\n",
       "      <td>1.0</td>\n",
       "      <td>1.0</td>\n",
       "      <td>0</td>\n",
       "      <td>2017-03-28T08:16:15.296Z</td>\n",
       "    </tr>\n",
       "    <tr>\n",
       "      <th>1</th>\n",
       "      <td>1</td>\n",
       "      <td>0</td>\n",
       "      <td>44.79</td>\n",
       "      <td>44.79</td>\n",
       "      <td>1.0</td>\n",
       "      <td>1.0</td>\n",
       "      <td>0</td>\n",
       "      <td>2017-03-28T08:16:15.418Z</td>\n",
       "    </tr>\n",
       "    <tr>\n",
       "      <th>2</th>\n",
       "      <td>2</td>\n",
       "      <td>0</td>\n",
       "      <td>10.89</td>\n",
       "      <td>10.89</td>\n",
       "      <td>1.0</td>\n",
       "      <td>1.0</td>\n",
       "      <td>0</td>\n",
       "      <td>2017-03-28T08:16:15.535Z</td>\n",
       "    </tr>\n",
       "    <tr>\n",
       "      <th>3</th>\n",
       "      <td>3</td>\n",
       "      <td>0</td>\n",
       "      <td>16.33</td>\n",
       "      <td>16.33</td>\n",
       "      <td>1.0</td>\n",
       "      <td>1.0</td>\n",
       "      <td>0</td>\n",
       "      <td>2017-03-28T08:16:15.645Z</td>\n",
       "    </tr>\n",
       "    <tr>\n",
       "      <th>4</th>\n",
       "      <td>4</td>\n",
       "      <td>0</td>\n",
       "      <td>18.59</td>\n",
       "      <td>18.59</td>\n",
       "      <td>1.0</td>\n",
       "      <td>1.0</td>\n",
       "      <td>0</td>\n",
       "      <td>2017-03-28T08:16:15.676Z</td>\n",
       "    </tr>\n",
       "  </tbody>\n",
       "</table>\n",
       "</div>"
      ],
      "text/plain": [
       "   Unnamed: 0  amount_of_all_competitors  average_price_on_market  own_price  \\\n",
       "0           0                          0                     6.43       6.43   \n",
       "1           1                          0                    44.79      44.79   \n",
       "2           2                          0                    10.89      10.89   \n",
       "3           3                          0                    16.33      16.33   \n",
       "4           4                          0                    18.59      18.59   \n",
       "\n",
       "   price_rank  quality_rank  sold                 timestamp  \n",
       "0         1.0           1.0     0  2017-03-28T08:16:15.296Z  \n",
       "1         1.0           1.0     0  2017-03-28T08:16:15.418Z  \n",
       "2         1.0           1.0     0  2017-03-28T08:16:15.535Z  \n",
       "3         1.0           1.0     0  2017-03-28T08:16:15.645Z  \n",
       "4         1.0           1.0     0  2017-03-28T08:16:15.676Z  "
      ]
     },
     "execution_count": 12,
     "metadata": {},
     "output_type": "execute_result"
    }
   ],
   "source": [
    "data = pd.read_csv('product_1_data.csv')\n",
    "data = data.dropna()\n",
    "data[:5]"
   ]
  },
  {
   "cell_type": "code",
   "execution_count": 22,
   "metadata": {
    "collapsed": true
   },
   "outputs": [],
   "source": [
    "X = data[['amount_of_all_competitors', 'average_price_on_market', 'price_rank', 'quality_rank']]\n",
    "y = data['sold']\n",
    "y[y > 0] = 1"
   ]
  },
  {
   "cell_type": "markdown",
   "metadata": {},
   "source": [
    "## check learning results"
   ]
  },
  {
   "cell_type": "code",
   "execution_count": 23,
   "metadata": {
    "collapsed": false
   },
   "outputs": [
    {
     "data": {
      "text/html": [
       "<div>\n",
       "<table border=\"1\" class=\"dataframe\">\n",
       "  <thead>\n",
       "    <tr style=\"text-align: right;\">\n",
       "      <th></th>\n",
       "      <th>Unnamed: 0</th>\n",
       "      <th>amount_of_all_competitors</th>\n",
       "      <th>average_price_on_market</th>\n",
       "      <th>own_price</th>\n",
       "      <th>price_rank</th>\n",
       "      <th>quality_rank</th>\n",
       "      <th>sold</th>\n",
       "    </tr>\n",
       "  </thead>\n",
       "  <tbody>\n",
       "    <tr>\n",
       "      <th>count</th>\n",
       "      <td>1709.00000</td>\n",
       "      <td>1709.000000</td>\n",
       "      <td>1709.000000</td>\n",
       "      <td>1709.000000</td>\n",
       "      <td>1709.000000</td>\n",
       "      <td>1709.000000</td>\n",
       "      <td>1709.0</td>\n",
       "    </tr>\n",
       "    <tr>\n",
       "      <th>mean</th>\n",
       "      <td>874.70041</td>\n",
       "      <td>0.547104</td>\n",
       "      <td>19.485777</td>\n",
       "      <td>21.040374</td>\n",
       "      <td>1.385606</td>\n",
       "      <td>1.176712</td>\n",
       "      <td>0.0</td>\n",
       "    </tr>\n",
       "    <tr>\n",
       "      <th>std</th>\n",
       "      <td>507.60073</td>\n",
       "      <td>0.668573</td>\n",
       "      <td>10.970526</td>\n",
       "      <td>12.608656</td>\n",
       "      <td>0.639675</td>\n",
       "      <td>0.443950</td>\n",
       "      <td>0.0</td>\n",
       "    </tr>\n",
       "    <tr>\n",
       "      <th>min</th>\n",
       "      <td>0.00000</td>\n",
       "      <td>0.000000</td>\n",
       "      <td>5.990000</td>\n",
       "      <td>5.940000</td>\n",
       "      <td>1.000000</td>\n",
       "      <td>1.000000</td>\n",
       "      <td>0.0</td>\n",
       "    </tr>\n",
       "    <tr>\n",
       "      <th>25%</th>\n",
       "      <td>436.00000</td>\n",
       "      <td>0.000000</td>\n",
       "      <td>11.940000</td>\n",
       "      <td>11.570000</td>\n",
       "      <td>1.000000</td>\n",
       "      <td>1.000000</td>\n",
       "      <td>0.0</td>\n",
       "    </tr>\n",
       "    <tr>\n",
       "      <th>50%</th>\n",
       "      <td>872.00000</td>\n",
       "      <td>0.000000</td>\n",
       "      <td>17.220000</td>\n",
       "      <td>18.070000</td>\n",
       "      <td>1.000000</td>\n",
       "      <td>1.000000</td>\n",
       "      <td>0.0</td>\n",
       "    </tr>\n",
       "    <tr>\n",
       "      <th>75%</th>\n",
       "      <td>1313.00000</td>\n",
       "      <td>1.000000</td>\n",
       "      <td>22.800000</td>\n",
       "      <td>26.960000</td>\n",
       "      <td>2.000000</td>\n",
       "      <td>1.000000</td>\n",
       "      <td>0.0</td>\n",
       "    </tr>\n",
       "    <tr>\n",
       "      <th>max</th>\n",
       "      <td>1773.00000</td>\n",
       "      <td>3.000000</td>\n",
       "      <td>86.130000</td>\n",
       "      <td>109.320000</td>\n",
       "      <td>4.000000</td>\n",
       "      <td>4.000000</td>\n",
       "      <td>0.0</td>\n",
       "    </tr>\n",
       "  </tbody>\n",
       "</table>\n",
       "</div>"
      ],
      "text/plain": [
       "       Unnamed: 0  amount_of_all_competitors  average_price_on_market  \\\n",
       "count  1709.00000                1709.000000              1709.000000   \n",
       "mean    874.70041                   0.547104                19.485777   \n",
       "std     507.60073                   0.668573                10.970526   \n",
       "min       0.00000                   0.000000                 5.990000   \n",
       "25%     436.00000                   0.000000                11.940000   \n",
       "50%     872.00000                   0.000000                17.220000   \n",
       "75%    1313.00000                   1.000000                22.800000   \n",
       "max    1773.00000                   3.000000                86.130000   \n",
       "\n",
       "         own_price   price_rank  quality_rank    sold  \n",
       "count  1709.000000  1709.000000   1709.000000  1709.0  \n",
       "mean     21.040374     1.385606      1.176712     0.0  \n",
       "std      12.608656     0.639675      0.443950     0.0  \n",
       "min       5.940000     1.000000      1.000000     0.0  \n",
       "25%      11.570000     1.000000      1.000000     0.0  \n",
       "50%      18.070000     1.000000      1.000000     0.0  \n",
       "75%      26.960000     2.000000      1.000000     0.0  \n",
       "max     109.320000     4.000000      4.000000     0.0  "
      ]
     },
     "execution_count": 23,
     "metadata": {},
     "output_type": "execute_result"
    }
   ],
   "source": [
    "data[data['sold'] == 0].describe()"
   ]
  },
  {
   "cell_type": "code",
   "execution_count": 24,
   "metadata": {
    "collapsed": false
   },
   "outputs": [
    {
     "data": {
      "text/html": [
       "<div>\n",
       "<table border=\"1\" class=\"dataframe\">\n",
       "  <thead>\n",
       "    <tr style=\"text-align: right;\">\n",
       "      <th></th>\n",
       "      <th>Unnamed: 0</th>\n",
       "      <th>amount_of_all_competitors</th>\n",
       "      <th>average_price_on_market</th>\n",
       "      <th>own_price</th>\n",
       "      <th>price_rank</th>\n",
       "      <th>quality_rank</th>\n",
       "      <th>sold</th>\n",
       "    </tr>\n",
       "  </thead>\n",
       "  <tbody>\n",
       "    <tr>\n",
       "      <th>count</th>\n",
       "      <td>59.000000</td>\n",
       "      <td>59.000000</td>\n",
       "      <td>59.000000</td>\n",
       "      <td>59.000000</td>\n",
       "      <td>59.000000</td>\n",
       "      <td>59.000000</td>\n",
       "      <td>59.0</td>\n",
       "    </tr>\n",
       "    <tr>\n",
       "      <th>mean</th>\n",
       "      <td>1146.322034</td>\n",
       "      <td>1.101695</td>\n",
       "      <td>19.972514</td>\n",
       "      <td>24.677627</td>\n",
       "      <td>2.016949</td>\n",
       "      <td>1.440678</td>\n",
       "      <td>1.0</td>\n",
       "    </tr>\n",
       "    <tr>\n",
       "      <th>std</th>\n",
       "      <td>541.751420</td>\n",
       "      <td>1.124874</td>\n",
       "      <td>8.152339</td>\n",
       "      <td>10.680596</td>\n",
       "      <td>1.152082</td>\n",
       "      <td>0.876340</td>\n",
       "      <td>0.0</td>\n",
       "    </tr>\n",
       "    <tr>\n",
       "      <th>min</th>\n",
       "      <td>207.000000</td>\n",
       "      <td>0.000000</td>\n",
       "      <td>7.685000</td>\n",
       "      <td>6.370000</td>\n",
       "      <td>1.000000</td>\n",
       "      <td>1.000000</td>\n",
       "      <td>1.0</td>\n",
       "    </tr>\n",
       "    <tr>\n",
       "      <th>25%</th>\n",
       "      <td>630.500000</td>\n",
       "      <td>0.000000</td>\n",
       "      <td>15.013333</td>\n",
       "      <td>15.515000</td>\n",
       "      <td>1.000000</td>\n",
       "      <td>1.000000</td>\n",
       "      <td>1.0</td>\n",
       "    </tr>\n",
       "    <tr>\n",
       "      <th>50%</th>\n",
       "      <td>1201.000000</td>\n",
       "      <td>1.000000</td>\n",
       "      <td>18.433333</td>\n",
       "      <td>25.900000</td>\n",
       "      <td>2.000000</td>\n",
       "      <td>1.000000</td>\n",
       "      <td>1.0</td>\n",
       "    </tr>\n",
       "    <tr>\n",
       "      <th>75%</th>\n",
       "      <td>1691.000000</td>\n",
       "      <td>2.000000</td>\n",
       "      <td>21.350000</td>\n",
       "      <td>31.900000</td>\n",
       "      <td>3.000000</td>\n",
       "      <td>1.500000</td>\n",
       "      <td>1.0</td>\n",
       "    </tr>\n",
       "    <tr>\n",
       "      <th>max</th>\n",
       "      <td>1770.000000</td>\n",
       "      <td>3.000000</td>\n",
       "      <td>52.900000</td>\n",
       "      <td>52.980000</td>\n",
       "      <td>4.000000</td>\n",
       "      <td>4.000000</td>\n",
       "      <td>1.0</td>\n",
       "    </tr>\n",
       "  </tbody>\n",
       "</table>\n",
       "</div>"
      ],
      "text/plain": [
       "        Unnamed: 0  amount_of_all_competitors  average_price_on_market  \\\n",
       "count    59.000000                  59.000000                59.000000   \n",
       "mean   1146.322034                   1.101695                19.972514   \n",
       "std     541.751420                   1.124874                 8.152339   \n",
       "min     207.000000                   0.000000                 7.685000   \n",
       "25%     630.500000                   0.000000                15.013333   \n",
       "50%    1201.000000                   1.000000                18.433333   \n",
       "75%    1691.000000                   2.000000                21.350000   \n",
       "max    1770.000000                   3.000000                52.900000   \n",
       "\n",
       "       own_price  price_rank  quality_rank  sold  \n",
       "count  59.000000   59.000000     59.000000  59.0  \n",
       "mean   24.677627    2.016949      1.440678   1.0  \n",
       "std    10.680596    1.152082      0.876340   0.0  \n",
       "min     6.370000    1.000000      1.000000   1.0  \n",
       "25%    15.515000    1.000000      1.000000   1.0  \n",
       "50%    25.900000    2.000000      1.000000   1.0  \n",
       "75%    31.900000    3.000000      1.500000   1.0  \n",
       "max    52.980000    4.000000      4.000000   1.0  "
      ]
     },
     "execution_count": 24,
     "metadata": {},
     "output_type": "execute_result"
    }
   ],
   "source": [
    "data[data['sold'] > 0].describe()"
   ]
  },
  {
   "cell_type": "code",
   "execution_count": 7,
   "metadata": {
    "collapsed": true
   },
   "outputs": [],
   "source": [
    "from sklearn.linear_model import LogisticRegression"
   ]
  },
  {
   "cell_type": "code",
   "execution_count": 8,
   "metadata": {
    "collapsed": true
   },
   "outputs": [],
   "source": [
    "lr = LogisticRegression()"
   ]
  },
  {
   "cell_type": "code",
   "execution_count": 25,
   "metadata": {
    "collapsed": false
   },
   "outputs": [
    {
     "data": {
      "text/plain": [
       "LogisticRegression(C=1.0, class_weight=None, dual=False, fit_intercept=True,\n",
       "          intercept_scaling=1, max_iter=100, multi_class='ovr', n_jobs=1,\n",
       "          penalty='l2', random_state=None, solver='liblinear', tol=0.0001,\n",
       "          verbose=0, warm_start=False)"
      ]
     },
     "execution_count": 25,
     "metadata": {},
     "output_type": "execute_result"
    }
   ],
   "source": [
    "lr.fit(X, y)"
   ]
  },
  {
   "cell_type": "code",
   "execution_count": 29,
   "metadata": {
    "collapsed": false
   },
   "outputs": [
    {
     "data": {
      "text/plain": [
       "0.96662895927601811"
      ]
     },
     "execution_count": 29,
     "metadata": {},
     "output_type": "execute_result"
    }
   ],
   "source": [
    "lr.score(X, y)"
   ]
  },
  {
   "cell_type": "code",
   "execution_count": 26,
   "metadata": {
    "collapsed": false
   },
   "outputs": [
    {
     "data": {
      "text/plain": [
       "array([[ 0.30376061, -0.01094918,  0.46138265, -0.00517134]])"
      ]
     },
     "execution_count": 26,
     "metadata": {},
     "output_type": "execute_result"
    }
   ],
   "source": [
    "lr.coef_"
   ]
  },
  {
   "cell_type": "markdown",
   "metadata": {},
   "source": [
    "## try normalizing expectation"
   ]
  },
  {
   "cell_type": "code",
   "execution_count": 30,
   "metadata": {
    "collapsed": false
   },
   "outputs": [
    {
     "data": {
      "text/html": [
       "<div>\n",
       "<table border=\"1\" class=\"dataframe\">\n",
       "  <thead>\n",
       "    <tr style=\"text-align: right;\">\n",
       "      <th></th>\n",
       "      <th>Unnamed: 0</th>\n",
       "      <th>amount_of_all_competitors</th>\n",
       "      <th>average_price_on_market</th>\n",
       "      <th>own_price</th>\n",
       "      <th>price_rank</th>\n",
       "      <th>quality_rank</th>\n",
       "      <th>sell_prob</th>\n",
       "      <th>expected_profit</th>\n",
       "    </tr>\n",
       "  </thead>\n",
       "  <tbody>\n",
       "    <tr>\n",
       "      <th>0</th>\n",
       "      <td>0</td>\n",
       "      <td>7</td>\n",
       "      <td>17.861818</td>\n",
       "      <td>6.1</td>\n",
       "      <td>1</td>\n",
       "      <td>9</td>\n",
       "      <td>0.012706</td>\n",
       "      <td>0.001271</td>\n",
       "    </tr>\n",
       "    <tr>\n",
       "      <th>1</th>\n",
       "      <td>1</td>\n",
       "      <td>7</td>\n",
       "      <td>17.898182</td>\n",
       "      <td>6.2</td>\n",
       "      <td>1</td>\n",
       "      <td>9</td>\n",
       "      <td>0.012684</td>\n",
       "      <td>0.002537</td>\n",
       "    </tr>\n",
       "    <tr>\n",
       "      <th>2</th>\n",
       "      <td>2</td>\n",
       "      <td>7</td>\n",
       "      <td>17.934545</td>\n",
       "      <td>6.3</td>\n",
       "      <td>1</td>\n",
       "      <td>9</td>\n",
       "      <td>0.012663</td>\n",
       "      <td>0.003799</td>\n",
       "    </tr>\n",
       "    <tr>\n",
       "      <th>3</th>\n",
       "      <td>3</td>\n",
       "      <td>7</td>\n",
       "      <td>17.970909</td>\n",
       "      <td>6.4</td>\n",
       "      <td>1</td>\n",
       "      <td>9</td>\n",
       "      <td>0.012641</td>\n",
       "      <td>0.005056</td>\n",
       "    </tr>\n",
       "    <tr>\n",
       "      <th>4</th>\n",
       "      <td>4</td>\n",
       "      <td>7</td>\n",
       "      <td>18.007273</td>\n",
       "      <td>6.5</td>\n",
       "      <td>1</td>\n",
       "      <td>9</td>\n",
       "      <td>0.012619</td>\n",
       "      <td>0.006310</td>\n",
       "    </tr>\n",
       "  </tbody>\n",
       "</table>\n",
       "</div>"
      ],
      "text/plain": [
       "   Unnamed: 0  amount_of_all_competitors  average_price_on_market  own_price  \\\n",
       "0           0                          7                17.861818        6.1   \n",
       "1           1                          7                17.898182        6.2   \n",
       "2           2                          7                17.934545        6.3   \n",
       "3           3                          7                17.970909        6.4   \n",
       "4           4                          7                18.007273        6.5   \n",
       "\n",
       "   price_rank  quality_rank  sell_prob  expected_profit  \n",
       "0           1             9   0.012706         0.001271  \n",
       "1           1             9   0.012684         0.002537  \n",
       "2           1             9   0.012663         0.003799  \n",
       "3           1             9   0.012641         0.005056  \n",
       "4           1             9   0.012619         0.006310  "
      ]
     },
     "execution_count": 30,
     "metadata": {},
     "output_type": "execute_result"
    }
   ],
   "source": [
    "pt = pd.read_csv('../pricing_table.csv')\n",
    "pt[:5]"
   ]
  },
  {
   "cell_type": "code",
   "execution_count": 36,
   "metadata": {
    "collapsed": false
   },
   "outputs": [
    {
     "data": {
      "text/html": [
       "<div>\n",
       "<table border=\"1\" class=\"dataframe\">\n",
       "  <thead>\n",
       "    <tr style=\"text-align: right;\">\n",
       "      <th></th>\n",
       "      <th>Unnamed: 0</th>\n",
       "      <th>amount_of_all_competitors</th>\n",
       "      <th>average_price_on_market</th>\n",
       "      <th>own_price</th>\n",
       "      <th>price_rank</th>\n",
       "      <th>quality_rank</th>\n",
       "      <th>sell_prob</th>\n",
       "      <th>expected_profit</th>\n",
       "    </tr>\n",
       "  </thead>\n",
       "  <tbody>\n",
       "    <tr>\n",
       "      <th>189</th>\n",
       "      <td>189</td>\n",
       "      <td>7</td>\n",
       "      <td>24.734545</td>\n",
       "      <td>25.0</td>\n",
       "      <td>7</td>\n",
       "      <td>9</td>\n",
       "      <td>0.827786</td>\n",
       "      <td>15.727931</td>\n",
       "    </tr>\n",
       "    <tr>\n",
       "      <th>190</th>\n",
       "      <td>190</td>\n",
       "      <td>7</td>\n",
       "      <td>24.770909</td>\n",
       "      <td>25.1</td>\n",
       "      <td>7</td>\n",
       "      <td>9</td>\n",
       "      <td>0.827537</td>\n",
       "      <td>15.805964</td>\n",
       "    </tr>\n",
       "    <tr>\n",
       "      <th>191</th>\n",
       "      <td>191</td>\n",
       "      <td>7</td>\n",
       "      <td>24.807273</td>\n",
       "      <td>25.2</td>\n",
       "      <td>7</td>\n",
       "      <td>9</td>\n",
       "      <td>0.827289</td>\n",
       "      <td>15.883941</td>\n",
       "    </tr>\n",
       "    <tr>\n",
       "      <th>192</th>\n",
       "      <td>192</td>\n",
       "      <td>7</td>\n",
       "      <td>24.843636</td>\n",
       "      <td>25.3</td>\n",
       "      <td>7</td>\n",
       "      <td>9</td>\n",
       "      <td>0.827040</td>\n",
       "      <td>15.961863</td>\n",
       "    </tr>\n",
       "    <tr>\n",
       "      <th>193</th>\n",
       "      <td>193</td>\n",
       "      <td>7</td>\n",
       "      <td>24.880000</td>\n",
       "      <td>25.4</td>\n",
       "      <td>7</td>\n",
       "      <td>9</td>\n",
       "      <td>0.826790</td>\n",
       "      <td>16.039730</td>\n",
       "    </tr>\n",
       "    <tr>\n",
       "      <th>194</th>\n",
       "      <td>194</td>\n",
       "      <td>7</td>\n",
       "      <td>24.916364</td>\n",
       "      <td>25.5</td>\n",
       "      <td>7</td>\n",
       "      <td>9</td>\n",
       "      <td>0.826541</td>\n",
       "      <td>16.117541</td>\n",
       "    </tr>\n",
       "    <tr>\n",
       "      <th>195</th>\n",
       "      <td>195</td>\n",
       "      <td>7</td>\n",
       "      <td>24.952727</td>\n",
       "      <td>25.6</td>\n",
       "      <td>7</td>\n",
       "      <td>9</td>\n",
       "      <td>0.826291</td>\n",
       "      <td>16.195297</td>\n",
       "    </tr>\n",
       "    <tr>\n",
       "      <th>196</th>\n",
       "      <td>196</td>\n",
       "      <td>7</td>\n",
       "      <td>24.989091</td>\n",
       "      <td>25.7</td>\n",
       "      <td>7</td>\n",
       "      <td>9</td>\n",
       "      <td>0.826040</td>\n",
       "      <td>16.272998</td>\n",
       "    </tr>\n",
       "    <tr>\n",
       "      <th>197</th>\n",
       "      <td>197</td>\n",
       "      <td>7</td>\n",
       "      <td>25.025455</td>\n",
       "      <td>25.8</td>\n",
       "      <td>7</td>\n",
       "      <td>9</td>\n",
       "      <td>0.825790</td>\n",
       "      <td>16.350642</td>\n",
       "    </tr>\n",
       "    <tr>\n",
       "      <th>198</th>\n",
       "      <td>198</td>\n",
       "      <td>7</td>\n",
       "      <td>25.061818</td>\n",
       "      <td>25.9</td>\n",
       "      <td>7</td>\n",
       "      <td>9</td>\n",
       "      <td>0.825539</td>\n",
       "      <td>16.428231</td>\n",
       "    </tr>\n",
       "  </tbody>\n",
       "</table>\n",
       "</div>"
      ],
      "text/plain": [
       "     Unnamed: 0  amount_of_all_competitors  average_price_on_market  \\\n",
       "189         189                          7                24.734545   \n",
       "190         190                          7                24.770909   \n",
       "191         191                          7                24.807273   \n",
       "192         192                          7                24.843636   \n",
       "193         193                          7                24.880000   \n",
       "194         194                          7                24.916364   \n",
       "195         195                          7                24.952727   \n",
       "196         196                          7                24.989091   \n",
       "197         197                          7                25.025455   \n",
       "198         198                          7                25.061818   \n",
       "\n",
       "     own_price  price_rank  quality_rank  sell_prob  expected_profit  \n",
       "189       25.0           7             9   0.827786        15.727931  \n",
       "190       25.1           7             9   0.827537        15.805964  \n",
       "191       25.2           7             9   0.827289        15.883941  \n",
       "192       25.3           7             9   0.827040        15.961863  \n",
       "193       25.4           7             9   0.826790        16.039730  \n",
       "194       25.5           7             9   0.826541        16.117541  \n",
       "195       25.6           7             9   0.826291        16.195297  \n",
       "196       25.7           7             9   0.826040        16.272998  \n",
       "197       25.8           7             9   0.825790        16.350642  \n",
       "198       25.9           7             9   0.825539        16.428231  "
      ]
     },
     "execution_count": 36,
     "metadata": {},
     "output_type": "execute_result"
    }
   ],
   "source": [
    "pt[pt['expected_profit'] > pt['expected_profit'].quantile(0.95)]"
   ]
  }
 ],
 "metadata": {
  "kernelspec": {
   "display_name": "Python 3",
   "language": "python",
   "name": "python3"
  },
  "language_info": {
   "codemirror_mode": {
    "name": "ipython",
    "version": 3
   },
   "file_extension": ".py",
   "mimetype": "text/x-python",
   "name": "python",
   "nbconvert_exporter": "python",
   "pygments_lexer": "ipython3",
   "version": "3.6.0"
  }
 },
 "nbformat": 4,
 "nbformat_minor": 2
}
