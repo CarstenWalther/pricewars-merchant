{
 "cells": [
  {
   "cell_type": "markdown",
   "metadata": {},
   "source": [
    "# Simulation API"
   ]
  },
  {
   "cell_type": "markdown",
   "metadata": {},
   "source": [
    "A merchant wants to offer products and maximize profits. Just like on a real online marketplace, he can look at all existing offers, add some own, restock or reprice. First, it has to order products from the producer, which comes with costs. All Pricewars entities are implemented as services, and their interfaces (REST) are described in detail [here](https://hpi-epic.github.io/pricewars/).\n",
    "\n",
    "This notebook will present how to use the Pricewars APIs to do all these tasks easily. From registration to buying products, offering them and repricing them. Using this, it is possible to build a powerful merchant.\n",
    "\n",
    "*Note*: The code is type-hinted, so using an IDE (e.g. PyCharm/IntelliJ or an IPython/Jupyter notebook) provides you with auto-completion.\n",
    "\n",
    "If you want to try the following examples, make sure that the Pricewars plattform is running.\n",
    "Either by deploying them individually or by using the docker setup."
   ]
  },
  {
   "cell_type": "markdown",
   "metadata": {},
   "source": [
    "The following step is specific for this notebook.\n",
    "It is not necessary if your merchant is in the repository root."
   ]
  },
  {
   "cell_type": "code",
   "execution_count": 9,
   "metadata": {},
   "outputs": [],
   "source": [
    "import sys\n",
    "sys.path.append('../')"
   ]
  },
  {
   "cell_type": "markdown",
   "metadata": {},
   "source": [
    "## Initialize Marketplace API"
   ]
  },
  {
   "cell_type": "code",
   "execution_count": 10,
   "metadata": {},
   "outputs": [],
   "source": [
    "from api import Marketplace\n",
    "marketplace = Marketplace()"
   ]
  },
  {
   "cell_type": "markdown",
   "metadata": {},
   "source": [
    "If the marketplace doesn't run on the default URL, you can change it with the `host` argument"
   ]
  },
  {
   "cell_type": "markdown",
   "metadata": {},
   "source": [
    "## Register as merchant"
   ]
  },
  {
   "cell_type": "markdown",
   "metadata": {},
   "source": [
    "In order to act on the marketplace, we need to be a registered merchant. Usually you use the Management UI to register a merchant and remember/keep the merchant_token. However, you can also use an API call.\n",
    "\n",
    "You will also have to provie an API endpoint for your merchant, which will be called upon sales of products. We will simply use an invalid one, since this is only an example."
   ]
  },
  {
   "cell_type": "code",
   "execution_count": 16,
   "metadata": {},
   "outputs": [
    {
     "data": {
      "text/plain": [
       "{'merchant_token': 'Qb3JxrP4T1UWyKWHarmPGjsOEkWnkRvA2xT0pt4ItYptsMATEwsTglruWOiHpeRr', 'algorithm_name': 'human', 'merchant_name': 'notebook_merchant', 'api_endpoint_url': 'http://nobody:55000/', 'merchant_id': 'autUGujAXiMPaZCwJcRTI1/8hFDXqH1khg6G8fl2BNU='}"
      ]
     },
     "execution_count": 16,
     "metadata": {},
     "output_type": "execute_result"
    }
   ],
   "source": [
    "registration = marketplace.register(\n",
    "    'http://nobody:55000/',\n",
    "    merchant_name='notebook_merchant',\n",
    "    algorithm_name='human')\n",
    "\n",
    "registration"
   ]
  },
  {
   "cell_type": "markdown",
   "metadata": {},
   "source": [
    "It was not possible to connect to the marketplace if you got the following error:\n",
    "```\n",
    "ConnectionError: HTTPConnectionPool(host='marketplace', port=8080)\n",
    "```\n",
    "In that case, make sure that the marketplace is running and host and port are correct.\n",
    "If host or port are wrong, you can change it by creating a marketplace object with the host argument:\n",
    "```\n",
    "marketplace = Marketplace(host=www.another_host.com:1234)\n",
    "```"
   ]
  },
  {
   "cell_type": "markdown",
   "metadata": {},
   "source": [
    "## Check offers on the market"
   ]
  },
  {
   "cell_type": "code",
   "execution_count": 19,
   "metadata": {},
   "outputs": [
    {
     "data": {
      "text/plain": [
       "[{'price': 22.75, 'amount': 1953, 'offer_id': 2, 'quality': 1, 'product_id': 1, 'uid': 11, 'prime': False, 'shipping_time': {'standard': 5, 'prime': 1}, 'signature': '', 'merchant_id': '79Qj3UKaNep4GpXXtKLFt8Y1hEMTH1KQd+p+wFwvt/I='},\n",
       " {'price': 22.65, 'amount': 1934, 'offer_id': 1, 'quality': 1, 'product_id': 1, 'uid': 11, 'prime': False, 'shipping_time': {'standard': 5, 'prime': 1}, 'signature': '', 'merchant_id': '9vLjL+h81Nql8ZLBBxnm70SDZZE98IAGAuMaj1JRmC8='},\n",
       " {'price': 22.55, 'amount': 20, 'offer_id': 3, 'quality': 1, 'product_id': 1, 'uid': 11, 'prime': False, 'shipping_time': {'standard': 5, 'prime': 1}, 'signature': '', 'merchant_id': '8Ezxj8Q/GvFcwa0CT3zoNyr5Hg3ZuNIs+E/LbVn9R3U='}]"
      ]
     },
     "execution_count": 19,
     "metadata": {},
     "output_type": "execute_result"
    }
   ],
   "source": [
    "offers = marketplace.get_offers()\n",
    "offers"
   ]
  },
  {
   "cell_type": "markdown",
   "metadata": {},
   "source": [
    "The result is a list of Offer objects."
   ]
  },
  {
   "cell_type": "code",
   "execution_count": 20,
   "metadata": {},
   "outputs": [
    {
     "data": {
      "text/plain": [
       "models.Offer.Offer"
      ]
     },
     "execution_count": 20,
     "metadata": {},
     "output_type": "execute_result"
    }
   ],
   "source": [
    "type(offers[0])"
   ]
  },
  {
   "cell_type": "markdown",
   "metadata": {},
   "source": [
    "If you want a state-less merchant, you can set the argument `include_empty_offers` to True. This will add your own, but out-of-stock offers to be added to the response."
   ]
  },
  {
   "cell_type": "markdown",
   "metadata": {},
   "source": [
    "## Initialize Producer API\n",
    "To be able to call authenticated functions (like ordering products), we must provide our merchant token."
   ]
  },
  {
   "cell_type": "code",
   "execution_count": 23,
   "metadata": {},
   "outputs": [],
   "source": [
    "from api import Producer\n",
    "producer = Producer(token=registration.merchant_token)"
   ]
  },
  {
   "cell_type": "markdown",
   "metadata": {},
   "source": [
    "## Order products"
   ]
  },
  {
   "cell_type": "markdown",
   "metadata": {},
   "source": [
    "Order any amount of units of a product:"
   ]
  },
  {
   "cell_type": "code",
   "execution_count": 25,
   "metadata": {},
   "outputs": [
    {
     "data": {
      "text/plain": [
       "{'billing_amount': 160, 'product': {'amount': 10, 'quality': 1, 'product_id': 1, 'name': 'CD_1', 'time_to_live': -1, 'uid': 11, 'signature': 'g0UFLCYfY5aFni311PuOfwLsAKFyiGW9mVK0HrgFRA0TchE0/CCoAjIXZfgozjMcjJb6+THRJBQQcoYEbqIHIt13Hfomx5yAMP2ndbGvz4tm6FvxNK1m5dmWsIRb9fPiZuhb8TStZuXZlrCEW/Xz4mboW/E0rWbl2ZawhFv18+I=', 'start_of_lifetime': -1}, 'left_in_stock': None, 'stock': -1}"
      ]
     },
     "execution_count": 25,
     "metadata": {},
     "output_type": "execute_result"
    }
   ],
   "source": [
    "order = producer.order(amount=10)\n",
    "order"
   ]
  },
  {
   "cell_type": "markdown",
   "metadata": {},
   "source": [
    "The order contains 10 units of a product.\n",
    "The `billing_amount` is the total cost that the merchant must pay for this order."
   ]
  },
  {
   "cell_type": "code",
   "execution_count": 26,
   "metadata": {},
   "outputs": [
    {
     "data": {
      "text/plain": [
       "models.Order.Order"
      ]
     },
     "execution_count": 26,
     "metadata": {},
     "output_type": "execute_result"
    }
   ],
   "source": [
    "type(order)"
   ]
  },
  {
   "cell_type": "markdown",
   "metadata": {},
   "source": [
    "## Add product to marketplace\n",
    "\n",
    "To create a new offer, you need a product, a selling price for that offer and guaranteed shipping times.\n",
    "\n",
    "Let's use a price of 35€ and any shipping times."
   ]
  },
  {
   "cell_type": "code",
   "execution_count": 28,
   "metadata": {},
   "outputs": [
    {
     "data": {
      "text/plain": [
       "{'price': 35, 'amount': 10, 'offer_id': -1, 'quality': 1, 'product_id': 1, 'uid': 11, 'prime': False, 'shipping_time': {'standard': 5, 'prime': 2}, 'signature': 'g0UFLCYfY5aFni311PuOfwLsAKFyiGW9mVK0HrgFRA0TchE0/CCoAjIXZfgozjMcjJb6+THRJBQQcoYEbqIHIt13Hfomx5yAMP2ndbGvz4tm6FvxNK1m5dmWsIRb9fPiZuhb8TStZuXZlrCEW/Xz4mboW/E0rWbl2ZawhFv18+I=', 'merchant_id': None}"
      ]
     },
     "execution_count": 28,
     "metadata": {},
     "output_type": "execute_result"
    }
   ],
   "source": [
    "from models import Offer\n",
    "\n",
    "price = 35\n",
    "shipping_time = {'standard': 5, 'prime': 2}\n",
    "\n",
    "offer = Offer.from_product(order.product, price, shipping_time)\n",
    "offer"
   ]
  },
  {
   "cell_type": "markdown",
   "metadata": {},
   "source": [
    "Send the offer to the marketplace. The accepted offer with its new offer ID is returned."
   ]
  },
  {
   "cell_type": "code",
   "execution_count": 30,
   "metadata": {},
   "outputs": [
    {
     "data": {
      "text/plain": [
       "{'price': 35, 'amount': 10, 'offer_id': 4, 'quality': 1, 'product_id': 1, 'uid': 11, 'prime': False, 'shipping_time': {'standard': 5, 'prime': 2}, 'signature': '', 'merchant_id': 'autUGujAXiMPaZCwJcRTI1/8hFDXqH1khg6G8fl2BNU='}"
      ]
     },
     "execution_count": 30,
     "metadata": {},
     "output_type": "execute_result"
    }
   ],
   "source": [
    "offer = marketplace.add_offer(offer)\n",
    "offer"
   ]
  },
  {
   "cell_type": "markdown",
   "metadata": {},
   "source": [
    "Let's see, if we can find the new offer on the marketplace:"
   ]
  },
  {
   "cell_type": "code",
   "execution_count": 31,
   "metadata": {},
   "outputs": [
    {
     "data": {
      "text/plain": [
       "{'price': 35.0, 'amount': 10, 'offer_id': 4, 'quality': 1, 'product_id': 1, 'uid': 11, 'prime': False, 'shipping_time': {'standard': 5, 'prime': 2}, 'signature': '', 'merchant_id': 'autUGujAXiMPaZCwJcRTI1/8hFDXqH1khg6G8fl2BNU='}"
      ]
     },
     "execution_count": 31,
     "metadata": {},
     "output_type": "execute_result"
    }
   ],
   "source": [
    "[market_offer for market_offer in marketplace.get_offers() if market_offer.offer_id == offer.offer_id][0]"
   ]
  },
  {
   "cell_type": "markdown",
   "metadata": {},
   "source": [
    "## Update product on marketplace"
   ]
  },
  {
   "cell_type": "markdown",
   "metadata": {},
   "source": [
    "Updating an offer, e.g. changing its price, is a limited API request. According to your simulation/marketplace settings, we can only call it N times per second."
   ]
  },
  {
   "cell_type": "code",
   "execution_count": 33,
   "metadata": {},
   "outputs": [],
   "source": [
    "offer.price = 28\n",
    "marketplace.update_offer(offer)"
   ]
  },
  {
   "cell_type": "code",
   "execution_count": 34,
   "metadata": {},
   "outputs": [
    {
     "data": {
      "text/plain": [
       "{'price': 28.0, 'amount': 10, 'offer_id': 4, 'quality': 1, 'product_id': 1, 'uid': 11, 'prime': False, 'shipping_time': {'standard': 5, 'prime': 2}, 'signature': '', 'merchant_id': 'autUGujAXiMPaZCwJcRTI1/8hFDXqH1khg6G8fl2BNU='}"
      ]
     },
     "execution_count": 34,
     "metadata": {},
     "output_type": "execute_result"
    }
   ],
   "source": [
    "[market_offer for market_offer in marketplace.get_offers() if market_offer.offer_id == offer.offer_id][0]"
   ]
  },
  {
   "cell_type": "markdown",
   "metadata": {},
   "source": [
    "## Unregister the merchant"
   ]
  },
  {
   "cell_type": "markdown",
   "metadata": {},
   "source": [
    "You should keep your merchant and the token as long as possible, because it is the reference to all market data (sales, profit, marketshare), offers and products.\n",
    "\n",
    "However, if you just try things out, like in this sample and don't want to pollute the database with lots of merchants, unregister it. This also removes all offers and products."
   ]
  },
  {
   "cell_type": "code",
   "execution_count": 35,
   "metadata": {},
   "outputs": [],
   "source": [
    "marketplace.unregister()"
   ]
  },
  {
   "cell_type": "markdown",
   "metadata": {},
   "source": [
    "Now, it shouldn't be possible to do authenticated actions."
   ]
  },
  {
   "cell_type": "code",
   "execution_count": 43,
   "metadata": {},
   "outputs": [
    {
     "name": "stdout",
     "output_type": "stream",
     "text": [
      "I can't do that\n",
      "\n",
      "Status code: 401\n",
      "URL: http://marketplace:8080/offers/4\n",
      "Text: {\"message\":\"Not authorized!\",\"code\":401}\n"
     ]
    }
   ],
   "source": [
    "from api.ApiError import ApiError\n",
    "\n",
    "offer.price = 35\n",
    "try:\n",
    "    marketplace.update_offer(offer)\n",
    "except ApiError as e:\n",
    "    print(\"I can't do that\")\n",
    "    print(e)"
   ]
  },
  {
   "cell_type": "code",
   "execution_count": null,
   "metadata": {},
   "outputs": [],
   "source": []
  }
 ],
 "metadata": {
  "kernelspec": {
   "display_name": "Python 3",
   "language": "python",
   "name": "python3"
  },
  "language_info": {
   "codemirror_mode": {
    "name": "ipython",
    "version": 3
   },
   "file_extension": ".py",
   "mimetype": "text/x-python",
   "name": "python",
   "nbconvert_exporter": "python",
   "pygments_lexer": "ipython3",
   "version": "3.5.2"
  }
 },
 "nbformat": 4,
 "nbformat_minor": 2
}
