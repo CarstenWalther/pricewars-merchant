{
 "cells": [
  {
   "cell_type": "markdown",
   "metadata": {},
   "source": [
    "# Working with Kafka data\n",
    "\n",
    "During a simulation, the producer and the marketplace are constantly logging sales and the activity on the market to Kafka. These information are organised in topics. In order to estimate customer demand and predict good prices, merchants can use the Kafka API to access this data.\n",
    "\n",
    "The merchants gets the data in form of a pandas DataFrame.\n",
    "\n",
    "If you want to try the following examples, make sure that the Pricewars plattform is running.\n",
    "Either by deploying them individually or by using the docker setup."
   ]
  },
  {
   "cell_type": "markdown",
   "metadata": {},
   "source": [
    "The following step is specific for this notebook.\n",
    "It is not necessary if your merchant is in the repository root."
   ]
  },
  {
   "cell_type": "code",
   "execution_count": 1,
   "metadata": {},
   "outputs": [],
   "source": [
    "import sys\n",
    "sys.path.append('../')"
   ]
  },
  {
   "cell_type": "markdown",
   "metadata": {},
   "source": [
    "## Initialize Kafka API"
   ]
  },
  {
   "cell_type": "markdown",
   "metadata": {},
   "source": [
    "You need a merchant token to use the Kafka API.\n",
    "To get one, register the merchant at the marketplace."
   ]
  },
  {
   "cell_type": "code",
   "execution_count": 6,
   "metadata": {},
   "outputs": [
    {
     "data": {
      "text/plain": [
       "{'algorithm_name': 'human', 'api_endpoint_url': 'http://nobody:55000/', 'merchant_name': 'kafka_notebook_merchant', 'merchant_token': 'ddObEKSew8sIa9aZvJrdSs78K5zVIuCvYaXlu0Rs8KBjUlJQ5B3W4AeOGetYZ6U7', 'merchant_id': 'YWKtz6tuqjA6hfYSSZ2Uf+9jmi0PrzlWNKQfoRv1oew='}"
      ]
     },
     "execution_count": 6,
     "metadata": {},
     "output_type": "execute_result"
    }
   ],
   "source": [
    "from api import Marketplace\n",
    "marketplace = Marketplace()\n",
    "registration = marketplace.register(\n",
    "    'http://nobody:55000/',\n",
    "    merchant_name='kafka_notebook_merchant',\n",
    "    algorithm_name='human')\n",
    "\n",
    "registration"
   ]
  },
  {
   "cell_type": "markdown",
   "metadata": {},
   "source": [
    "It was not possible to connect to the marketplace if you got the following error:\n",
    "```\n",
    "ConnectionError: HTTPConnectionPool(host='marketplace', port=8080)\n",
    "```\n",
    "In that case, make sure that the marketplace is running and host and port are correct.\n",
    "If host or port are wrong, you can change it by creating a marketplace object with the host argument:\n",
    "```\n",
    "marketplace = Marketplace(host='www.another_host.com:1234')\n",
    "```\n",
    "Same is true for the upcoming Kafka API "
   ]
  },
  {
   "cell_type": "markdown",
   "metadata": {},
   "source": [
    "Next, initialize the Kafka API:"
   ]
  },
  {
   "cell_type": "code",
   "execution_count": 9,
   "metadata": {},
   "outputs": [],
   "source": [
    "from api import Kafka\n",
    "kafka = Kafka(token=registration.merchant_token)"
   ]
  },
  {
   "cell_type": "markdown",
   "metadata": {},
   "source": [
    "## Request topic\n",
    "\n",
    "You can request data for specific topics. The most important topics are `buyOffer` which contains your own sales and `marketSituation` which contains a history of market situations.\n",
    "The call will return the data in form of a pandas DataFrame.\n",
    "Depending on how active the simulation is and how much data is logged, this can take some time."
   ]
  },
  {
   "cell_type": "code",
   "execution_count": 15,
   "metadata": {},
   "outputs": [
    {
     "data": {
      "text/html": [
       "<div>\n",
       "<style scoped>\n",
       "    .dataframe tbody tr th:only-of-type {\n",
       "        vertical-align: middle;\n",
       "    }\n",
       "\n",
       "    .dataframe tbody tr th {\n",
       "        vertical-align: top;\n",
       "    }\n",
       "\n",
       "    .dataframe thead th {\n",
       "        text-align: right;\n",
       "    }\n",
       "</style>\n",
       "<table border=\"1\" class=\"dataframe\">\n",
       "  <thead>\n",
       "    <tr style=\"text-align: right;\">\n",
       "      <th></th>\n",
       "      <th>amount</th>\n",
       "      <th>consumer_id</th>\n",
       "      <th>http_code</th>\n",
       "      <th>left_in_stock</th>\n",
       "      <th>merchant_id</th>\n",
       "      <th>offer_id</th>\n",
       "      <th>price</th>\n",
       "      <th>product_id</th>\n",
       "      <th>quality</th>\n",
       "      <th>timestamp</th>\n",
       "      <th>uid</th>\n",
       "    </tr>\n",
       "  </thead>\n",
       "  <tbody>\n",
       "    <tr>\n",
       "      <th>0</th>\n",
       "      <td>1</td>\n",
       "      <td>M+vLAIwHTf3zXqLi1rd/S9AjcOJFGHS2LwQN6p6V7nI=</td>\n",
       "      <td>200</td>\n",
       "      <td>29</td>\n",
       "      <td>YWKtz6tuqjA6hfYSSZ2Uf+9jmi0PrzlWNKQfoRv1oew=</td>\n",
       "      <td>6</td>\n",
       "      <td>35.0</td>\n",
       "      <td>1</td>\n",
       "      <td>1</td>\n",
       "      <td>2018-03-16 10:01:01.673</td>\n",
       "      <td>11</td>\n",
       "    </tr>\n",
       "    <tr>\n",
       "      <th>1</th>\n",
       "      <td>1</td>\n",
       "      <td>M+vLAIwHTf3zXqLi1rd/S9AjcOJFGHS2LwQN6p6V7nI=</td>\n",
       "      <td>200</td>\n",
       "      <td>28</td>\n",
       "      <td>YWKtz6tuqjA6hfYSSZ2Uf+9jmi0PrzlWNKQfoRv1oew=</td>\n",
       "      <td>6</td>\n",
       "      <td>35.0</td>\n",
       "      <td>1</td>\n",
       "      <td>1</td>\n",
       "      <td>2018-03-16 10:01:02.236</td>\n",
       "      <td>11</td>\n",
       "    </tr>\n",
       "    <tr>\n",
       "      <th>2</th>\n",
       "      <td>1</td>\n",
       "      <td>M+vLAIwHTf3zXqLi1rd/S9AjcOJFGHS2LwQN6p6V7nI=</td>\n",
       "      <td>200</td>\n",
       "      <td>27</td>\n",
       "      <td>YWKtz6tuqjA6hfYSSZ2Uf+9jmi0PrzlWNKQfoRv1oew=</td>\n",
       "      <td>6</td>\n",
       "      <td>35.0</td>\n",
       "      <td>1</td>\n",
       "      <td>1</td>\n",
       "      <td>2018-03-16 10:01:17.864</td>\n",
       "      <td>11</td>\n",
       "    </tr>\n",
       "    <tr>\n",
       "      <th>3</th>\n",
       "      <td>1</td>\n",
       "      <td>M+vLAIwHTf3zXqLi1rd/S9AjcOJFGHS2LwQN6p6V7nI=</td>\n",
       "      <td>200</td>\n",
       "      <td>26</td>\n",
       "      <td>YWKtz6tuqjA6hfYSSZ2Uf+9jmi0PrzlWNKQfoRv1oew=</td>\n",
       "      <td>6</td>\n",
       "      <td>35.0</td>\n",
       "      <td>1</td>\n",
       "      <td>1</td>\n",
       "      <td>2018-03-16 10:01:18.771</td>\n",
       "      <td>11</td>\n",
       "    </tr>\n",
       "    <tr>\n",
       "      <th>4</th>\n",
       "      <td>1</td>\n",
       "      <td>M+vLAIwHTf3zXqLi1rd/S9AjcOJFGHS2LwQN6p6V7nI=</td>\n",
       "      <td>200</td>\n",
       "      <td>25</td>\n",
       "      <td>YWKtz6tuqjA6hfYSSZ2Uf+9jmi0PrzlWNKQfoRv1oew=</td>\n",
       "      <td>6</td>\n",
       "      <td>35.0</td>\n",
       "      <td>1</td>\n",
       "      <td>1</td>\n",
       "      <td>2018-03-16 10:01:22.335</td>\n",
       "      <td>11</td>\n",
       "    </tr>\n",
       "  </tbody>\n",
       "</table>\n",
       "</div>"
      ],
      "text/plain": [
       "   amount                                   consumer_id  http_code  \\\n",
       "0       1  M+vLAIwHTf3zXqLi1rd/S9AjcOJFGHS2LwQN6p6V7nI=        200   \n",
       "1       1  M+vLAIwHTf3zXqLi1rd/S9AjcOJFGHS2LwQN6p6V7nI=        200   \n",
       "2       1  M+vLAIwHTf3zXqLi1rd/S9AjcOJFGHS2LwQN6p6V7nI=        200   \n",
       "3       1  M+vLAIwHTf3zXqLi1rd/S9AjcOJFGHS2LwQN6p6V7nI=        200   \n",
       "4       1  M+vLAIwHTf3zXqLi1rd/S9AjcOJFGHS2LwQN6p6V7nI=        200   \n",
       "\n",
       "   left_in_stock                                   merchant_id  offer_id  \\\n",
       "0             29  YWKtz6tuqjA6hfYSSZ2Uf+9jmi0PrzlWNKQfoRv1oew=         6   \n",
       "1             28  YWKtz6tuqjA6hfYSSZ2Uf+9jmi0PrzlWNKQfoRv1oew=         6   \n",
       "2             27  YWKtz6tuqjA6hfYSSZ2Uf+9jmi0PrzlWNKQfoRv1oew=         6   \n",
       "3             26  YWKtz6tuqjA6hfYSSZ2Uf+9jmi0PrzlWNKQfoRv1oew=         6   \n",
       "4             25  YWKtz6tuqjA6hfYSSZ2Uf+9jmi0PrzlWNKQfoRv1oew=         6   \n",
       "\n",
       "   price  product_id  quality               timestamp  uid  \n",
       "0   35.0           1        1 2018-03-16 10:01:01.673   11  \n",
       "1   35.0           1        1 2018-03-16 10:01:02.236   11  \n",
       "2   35.0           1        1 2018-03-16 10:01:17.864   11  \n",
       "3   35.0           1        1 2018-03-16 10:01:18.771   11  \n",
       "4   35.0           1        1 2018-03-16 10:01:22.335   11  "
      ]
     },
     "execution_count": 15,
     "metadata": {},
     "output_type": "execute_result"
    }
   ],
   "source": [
    "sales_data = kafka.download_topic_data('buyOffer')\n",
    "sales_data.head()"
   ]
  },
  {
   "cell_type": "markdown",
   "metadata": {},
   "source": [
    "This method may return `None` if it was not possible to obtain the data. For example, this happens if the merchant doesn't have any sales."
   ]
  },
  {
   "cell_type": "code",
   "execution_count": 16,
   "metadata": {},
   "outputs": [
    {
     "data": {
      "text/plain": [
       "30"
      ]
     },
     "execution_count": 16,
     "metadata": {},
     "output_type": "execute_result"
    }
   ],
   "source": [
    "len(sales_data)"
   ]
  },
  {
   "cell_type": "code",
   "execution_count": 18,
   "metadata": {},
   "outputs": [
    {
     "name": "stdout",
     "output_type": "stream",
     "text": [
      "5\n"
     ]
    },
    {
     "data": {
      "text/html": [
       "<div>\n",
       "<style scoped>\n",
       "    .dataframe tbody tr th:only-of-type {\n",
       "        vertical-align: middle;\n",
       "    }\n",
       "\n",
       "    .dataframe tbody tr th {\n",
       "        vertical-align: top;\n",
       "    }\n",
       "\n",
       "    .dataframe thead th {\n",
       "        text-align: right;\n",
       "    }\n",
       "</style>\n",
       "<table border=\"1\" class=\"dataframe\">\n",
       "  <thead>\n",
       "    <tr style=\"text-align: right;\">\n",
       "      <th></th>\n",
       "      <th>amount</th>\n",
       "      <th>merchant_id</th>\n",
       "      <th>offer_id</th>\n",
       "      <th>price</th>\n",
       "      <th>prime</th>\n",
       "      <th>product_id</th>\n",
       "      <th>quality</th>\n",
       "      <th>shipping_time_prime</th>\n",
       "      <th>shipping_time_standard</th>\n",
       "      <th>timestamp</th>\n",
       "      <th>triggering_merchant_id</th>\n",
       "      <th>uid</th>\n",
       "    </tr>\n",
       "  </thead>\n",
       "  <tbody>\n",
       "    <tr>\n",
       "      <th>0</th>\n",
       "      <td>1953</td>\n",
       "      <td>79Qj3UKaNep4GpXXtKLFt8Y1hEMTH1KQd+p+wFwvt/I=</td>\n",
       "      <td>2</td>\n",
       "      <td>22.75</td>\n",
       "      <td>False</td>\n",
       "      <td>1</td>\n",
       "      <td>1</td>\n",
       "      <td>1</td>\n",
       "      <td>5</td>\n",
       "      <td>2018-03-16 10:00:37.917</td>\n",
       "      <td>YWKtz6tuqjA6hfYSSZ2Uf+9jmi0PrzlWNKQfoRv1oew=</td>\n",
       "      <td>11</td>\n",
       "    </tr>\n",
       "    <tr>\n",
       "      <th>1</th>\n",
       "      <td>20</td>\n",
       "      <td>D0lQAcvhYUhRvqDOPoP068oubQxr8Seo0/nMEcp0Ye4=</td>\n",
       "      <td>5</td>\n",
       "      <td>22.45</td>\n",
       "      <td>False</td>\n",
       "      <td>1</td>\n",
       "      <td>1</td>\n",
       "      <td>1</td>\n",
       "      <td>5</td>\n",
       "      <td>2018-03-16 10:00:37.917</td>\n",
       "      <td>YWKtz6tuqjA6hfYSSZ2Uf+9jmi0PrzlWNKQfoRv1oew=</td>\n",
       "      <td>11</td>\n",
       "    </tr>\n",
       "    <tr>\n",
       "      <th>2</th>\n",
       "      <td>30</td>\n",
       "      <td>YWKtz6tuqjA6hfYSSZ2Uf+9jmi0PrzlWNKQfoRv1oew=</td>\n",
       "      <td>6</td>\n",
       "      <td>35.00</td>\n",
       "      <td>False</td>\n",
       "      <td>1</td>\n",
       "      <td>1</td>\n",
       "      <td>2</td>\n",
       "      <td>5</td>\n",
       "      <td>2018-03-16 10:00:37.917</td>\n",
       "      <td>YWKtz6tuqjA6hfYSSZ2Uf+9jmi0PrzlWNKQfoRv1oew=</td>\n",
       "      <td>11</td>\n",
       "    </tr>\n",
       "    <tr>\n",
       "      <th>3</th>\n",
       "      <td>1934</td>\n",
       "      <td>9vLjL+h81Nql8ZLBBxnm70SDZZE98IAGAuMaj1JRmC8=</td>\n",
       "      <td>1</td>\n",
       "      <td>22.65</td>\n",
       "      <td>False</td>\n",
       "      <td>1</td>\n",
       "      <td>1</td>\n",
       "      <td>1</td>\n",
       "      <td>5</td>\n",
       "      <td>2018-03-16 10:00:37.917</td>\n",
       "      <td>YWKtz6tuqjA6hfYSSZ2Uf+9jmi0PrzlWNKQfoRv1oew=</td>\n",
       "      <td>11</td>\n",
       "    </tr>\n",
       "    <tr>\n",
       "      <th>4</th>\n",
       "      <td>20</td>\n",
       "      <td>8Ezxj8Q/GvFcwa0CT3zoNyr5Hg3ZuNIs+E/LbVn9R3U=</td>\n",
       "      <td>3</td>\n",
       "      <td>22.55</td>\n",
       "      <td>False</td>\n",
       "      <td>1</td>\n",
       "      <td>1</td>\n",
       "      <td>1</td>\n",
       "      <td>5</td>\n",
       "      <td>2018-03-16 10:00:37.917</td>\n",
       "      <td>YWKtz6tuqjA6hfYSSZ2Uf+9jmi0PrzlWNKQfoRv1oew=</td>\n",
       "      <td>11</td>\n",
       "    </tr>\n",
       "  </tbody>\n",
       "</table>\n",
       "</div>"
      ],
      "text/plain": [
       "   amount                                   merchant_id  offer_id  price  \\\n",
       "0    1953  79Qj3UKaNep4GpXXtKLFt8Y1hEMTH1KQd+p+wFwvt/I=         2  22.75   \n",
       "1      20  D0lQAcvhYUhRvqDOPoP068oubQxr8Seo0/nMEcp0Ye4=         5  22.45   \n",
       "2      30  YWKtz6tuqjA6hfYSSZ2Uf+9jmi0PrzlWNKQfoRv1oew=         6  35.00   \n",
       "3    1934  9vLjL+h81Nql8ZLBBxnm70SDZZE98IAGAuMaj1JRmC8=         1  22.65   \n",
       "4      20  8Ezxj8Q/GvFcwa0CT3zoNyr5Hg3ZuNIs+E/LbVn9R3U=         3  22.55   \n",
       "\n",
       "   prime  product_id  quality  shipping_time_prime  shipping_time_standard  \\\n",
       "0  False           1        1                    1                       5   \n",
       "1  False           1        1                    1                       5   \n",
       "2  False           1        1                    2                       5   \n",
       "3  False           1        1                    1                       5   \n",
       "4  False           1        1                    1                       5   \n",
       "\n",
       "                timestamp                        triggering_merchant_id  uid  \n",
       "0 2018-03-16 10:00:37.917  YWKtz6tuqjA6hfYSSZ2Uf+9jmi0PrzlWNKQfoRv1oew=   11  \n",
       "1 2018-03-16 10:00:37.917  YWKtz6tuqjA6hfYSSZ2Uf+9jmi0PrzlWNKQfoRv1oew=   11  \n",
       "2 2018-03-16 10:00:37.917  YWKtz6tuqjA6hfYSSZ2Uf+9jmi0PrzlWNKQfoRv1oew=   11  \n",
       "3 2018-03-16 10:00:37.917  YWKtz6tuqjA6hfYSSZ2Uf+9jmi0PrzlWNKQfoRv1oew=   11  \n",
       "4 2018-03-16 10:00:37.917  YWKtz6tuqjA6hfYSSZ2Uf+9jmi0PrzlWNKQfoRv1oew=   11  "
      ]
     },
     "execution_count": 18,
     "metadata": {},
     "output_type": "execute_result"
    }
   ],
   "source": [
    "market_situations = kafka.download_topic_data('marketSituation')\n",
    "print(len(market_situations))\n",
    "market_situations.head()"
   ]
  }
 ],
 "metadata": {
  "kernelspec": {
   "display_name": "Python 3",
   "language": "python",
   "name": "python3"
  },
  "language_info": {
   "codemirror_mode": {
    "name": "ipython",
    "version": 3
   },
   "file_extension": ".py",
   "mimetype": "text/x-python",
   "name": "python",
   "nbconvert_exporter": "python",
   "pygments_lexer": "ipython3",
   "version": "3.5.2"
  }
 },
 "nbformat": 4,
 "nbformat_minor": 2
}
