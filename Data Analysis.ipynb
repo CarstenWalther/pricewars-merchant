{
 "cells": [
  {
   "cell_type": "markdown",
   "metadata": {},
   "source": [
    "# Data Analysis"
   ]
  },
  {
   "cell_type": "code",
   "execution_count": 1,
   "metadata": {
    "collapsed": true
   },
   "outputs": [],
   "source": [
    "import numpy as np\n",
    "import pandas as pd\n"
   ]
  },
  {
   "cell_type": "code",
   "execution_count": 10,
   "metadata": {
    "collapsed": true
   },
   "outputs": [],
   "source": [
    "import sys\n",
    "sys.path.append('./merchant_sdk/')\n",
    "\n",
    "from merchant_sdk.api import KafkaApi\n",
    "\n",
    "kafka_api = KafkaApi()"
   ]
  },
  {
   "cell_type": "code",
   "execution_count": 11,
   "metadata": {
    "collapsed": false,
    "scrolled": false
   },
   "outputs": [
    {
     "name": "stdout",
     "output_type": "stream",
     "text": [
      "request <class 'merchant_sdk.api.KafkaApi.KafkaApi'> get export/data/buyOffer () {}\n"
     ]
    },
    {
     "data": {
      "text/html": [
       "<div>\n",
       "<table border=\"1\" class=\"dataframe\">\n",
       "  <thead>\n",
       "    <tr style=\"text-align: right;\">\n",
       "      <th></th>\n",
       "      <th>amount</th>\n",
       "      <th>consumer_id</th>\n",
       "      <th>http_code</th>\n",
       "      <th>left_in_stock</th>\n",
       "      <th>merchant_id</th>\n",
       "      <th>offer_id</th>\n",
       "      <th>price</th>\n",
       "      <th>product_id</th>\n",
       "      <th>quality</th>\n",
       "      <th>timestamp</th>\n",
       "      <th>uid</th>\n",
       "    </tr>\n",
       "  </thead>\n",
       "  <tbody>\n",
       "    <tr>\n",
       "      <th>0</th>\n",
       "      <td>1</td>\n",
       "      <td>kfBQ1lT7qVB4T4h+STODD+7y4L1Us27vZNq7f54pkSk=</td>\n",
       "      <td>200</td>\n",
       "      <td>0</td>\n",
       "      <td>yi/W6c9hewwugbo6oX/Nc7yawY4i4PtLvhqmGkL5Od4=</td>\n",
       "      <td>38</td>\n",
       "      <td>38.0</td>\n",
       "      <td>2</td>\n",
       "      <td>4</td>\n",
       "      <td>2017-01-10T15:57:28.201Z</td>\n",
       "      <td>24</td>\n",
       "    </tr>\n",
       "    <tr>\n",
       "      <th>1</th>\n",
       "      <td>1</td>\n",
       "      <td>kfBQ1lT7qVB4T4h+STODD+7y4L1Us27vZNq7f54pkSk=</td>\n",
       "      <td>200</td>\n",
       "      <td>0</td>\n",
       "      <td>yi/W6c9hewwugbo6oX/Nc7yawY4i4PtLvhqmGkL5Od4=</td>\n",
       "      <td>32</td>\n",
       "      <td>47.0</td>\n",
       "      <td>2</td>\n",
       "      <td>1</td>\n",
       "      <td>2017-01-10T15:57:31.886Z</td>\n",
       "      <td>21</td>\n",
       "    </tr>\n",
       "    <tr>\n",
       "      <th>2</th>\n",
       "      <td>1</td>\n",
       "      <td>kfBQ1lT7qVB4T4h+STODD+7y4L1Us27vZNq7f54pkSk=</td>\n",
       "      <td>200</td>\n",
       "      <td>0</td>\n",
       "      <td>yi/W6c9hewwugbo6oX/Nc7yawY4i4PtLvhqmGkL5Od4=</td>\n",
       "      <td>39</td>\n",
       "      <td>38.0</td>\n",
       "      <td>1</td>\n",
       "      <td>4</td>\n",
       "      <td>2017-01-10T15:57:42.891Z</td>\n",
       "      <td>14</td>\n",
       "    </tr>\n",
       "    <tr>\n",
       "      <th>3</th>\n",
       "      <td>1</td>\n",
       "      <td>kfBQ1lT7qVB4T4h+STODD+7y4L1Us27vZNq7f54pkSk=</td>\n",
       "      <td>200</td>\n",
       "      <td>0</td>\n",
       "      <td>yi/W6c9hewwugbo6oX/Nc7yawY4i4PtLvhqmGkL5Od4=</td>\n",
       "      <td>33</td>\n",
       "      <td>47.0</td>\n",
       "      <td>3</td>\n",
       "      <td>1</td>\n",
       "      <td>2017-01-10T15:57:55.934Z</td>\n",
       "      <td>31</td>\n",
       "    </tr>\n",
       "    <tr>\n",
       "      <th>4</th>\n",
       "      <td>1</td>\n",
       "      <td>kfBQ1lT7qVB4T4h+STODD+7y4L1Us27vZNq7f54pkSk=</td>\n",
       "      <td>200</td>\n",
       "      <td>0</td>\n",
       "      <td>yi/W6c9hewwugbo6oX/Nc7yawY4i4PtLvhqmGkL5Od4=</td>\n",
       "      <td>34</td>\n",
       "      <td>47.0</td>\n",
       "      <td>3</td>\n",
       "      <td>1</td>\n",
       "      <td>2017-01-10T15:58:00.389Z</td>\n",
       "      <td>31</td>\n",
       "    </tr>\n",
       "  </tbody>\n",
       "</table>\n",
       "</div>"
      ],
      "text/plain": [
       "   amount                                   consumer_id  http_code  \\\n",
       "0       1  kfBQ1lT7qVB4T4h+STODD+7y4L1Us27vZNq7f54pkSk=        200   \n",
       "1       1  kfBQ1lT7qVB4T4h+STODD+7y4L1Us27vZNq7f54pkSk=        200   \n",
       "2       1  kfBQ1lT7qVB4T4h+STODD+7y4L1Us27vZNq7f54pkSk=        200   \n",
       "3       1  kfBQ1lT7qVB4T4h+STODD+7y4L1Us27vZNq7f54pkSk=        200   \n",
       "4       1  kfBQ1lT7qVB4T4h+STODD+7y4L1Us27vZNq7f54pkSk=        200   \n",
       "\n",
       "   left_in_stock                                   merchant_id  offer_id  \\\n",
       "0              0  yi/W6c9hewwugbo6oX/Nc7yawY4i4PtLvhqmGkL5Od4=        38   \n",
       "1              0  yi/W6c9hewwugbo6oX/Nc7yawY4i4PtLvhqmGkL5Od4=        32   \n",
       "2              0  yi/W6c9hewwugbo6oX/Nc7yawY4i4PtLvhqmGkL5Od4=        39   \n",
       "3              0  yi/W6c9hewwugbo6oX/Nc7yawY4i4PtLvhqmGkL5Od4=        33   \n",
       "4              0  yi/W6c9hewwugbo6oX/Nc7yawY4i4PtLvhqmGkL5Od4=        34   \n",
       "\n",
       "   price  product_id  quality                 timestamp  uid  \n",
       "0   38.0           2        4  2017-01-10T15:57:28.201Z   24  \n",
       "1   47.0           2        1  2017-01-10T15:57:31.886Z   21  \n",
       "2   38.0           1        4  2017-01-10T15:57:42.891Z   14  \n",
       "3   47.0           3        1  2017-01-10T15:57:55.934Z   31  \n",
       "4   47.0           3        1  2017-01-10T15:58:00.389Z   31  "
      ]
     },
     "execution_count": 11,
     "metadata": {},
     "output_type": "execute_result"
    }
   ],
   "source": [
    "buy_offer_csv_url = kafka_api.request_csv_export_for_topic('buyOffer')\n",
    "buy_offer_df = pd.read_csv(buy_offer_csv_url)\n",
    "buy_offer_df[:5]"
   ]
  },
  {
   "cell_type": "code",
   "execution_count": 14,
   "metadata": {
    "collapsed": false
   },
   "outputs": [
    {
     "name": "stdout",
     "output_type": "stream",
     "text": [
      "request <class 'merchant_sdk.api.KafkaApi.KafkaApi'> get export/data/marketSituation () {}\n"
     ]
    },
    {
     "data": {
      "text/html": [
       "<div>\n",
       "<table border=\"1\" class=\"dataframe\">\n",
       "  <thead>\n",
       "    <tr style=\"text-align: right;\">\n",
       "      <th></th>\n",
       "      <th>offers</th>\n",
       "      <th>timestamp</th>\n",
       "    </tr>\n",
       "  </thead>\n",
       "  <tbody>\n",
       "    <tr>\n",
       "      <th>0</th>\n",
       "      <td>{'XUxM+XmfkUI2ZeZ2Mphwf066k46Y17X5QaiqDioocZo=...</td>\n",
       "      <td>2017-01-24T10:35:33.683Z</td>\n",
       "    </tr>\n",
       "    <tr>\n",
       "      <th>1</th>\n",
       "      <td>{'XUxM+XmfkUI2ZeZ2Mphwf066k46Y17X5QaiqDioocZo=...</td>\n",
       "      <td>2017-01-24T10:35:33.686Z</td>\n",
       "    </tr>\n",
       "    <tr>\n",
       "      <th>2</th>\n",
       "      <td>{'XUxM+XmfkUI2ZeZ2Mphwf066k46Y17X5QaiqDioocZo=...</td>\n",
       "      <td>2017-01-24T10:35:33.925Z</td>\n",
       "    </tr>\n",
       "    <tr>\n",
       "      <th>3</th>\n",
       "      <td>{'XUxM+XmfkUI2ZeZ2Mphwf066k46Y17X5QaiqDioocZo=...</td>\n",
       "      <td>2017-01-24T10:35:33.933Z</td>\n",
       "    </tr>\n",
       "    <tr>\n",
       "      <th>4</th>\n",
       "      <td>{'XUxM+XmfkUI2ZeZ2Mphwf066k46Y17X5QaiqDioocZo=...</td>\n",
       "      <td>2017-01-24T10:35:33.950Z</td>\n",
       "    </tr>\n",
       "  </tbody>\n",
       "</table>\n",
       "</div>"
      ],
      "text/plain": [
       "                                              offers                 timestamp\n",
       "0  {'XUxM+XmfkUI2ZeZ2Mphwf066k46Y17X5QaiqDioocZo=...  2017-01-24T10:35:33.683Z\n",
       "1  {'XUxM+XmfkUI2ZeZ2Mphwf066k46Y17X5QaiqDioocZo=...  2017-01-24T10:35:33.686Z\n",
       "2  {'XUxM+XmfkUI2ZeZ2Mphwf066k46Y17X5QaiqDioocZo=...  2017-01-24T10:35:33.925Z\n",
       "3  {'XUxM+XmfkUI2ZeZ2Mphwf066k46Y17X5QaiqDioocZo=...  2017-01-24T10:35:33.933Z\n",
       "4  {'XUxM+XmfkUI2ZeZ2Mphwf066k46Y17X5QaiqDioocZo=...  2017-01-24T10:35:33.950Z"
      ]
     },
     "execution_count": 14,
     "metadata": {},
     "output_type": "execute_result"
    }
   ],
   "source": [
    "market_situation_csv_url = kafka_api.request_csv_export_for_topic('marketSituation')\n",
    "market_situation_df = pd.read_csv(market_situation_csv_url)\n",
    "market_situation_df[:5]"
   ]
  },
  {
   "cell_type": "code",
   "execution_count": null,
   "metadata": {
    "collapsed": true
   },
   "outputs": [],
   "source": []
  },
  {
   "cell_type": "code",
   "execution_count": null,
   "metadata": {
    "collapsed": true
   },
   "outputs": [],
   "source": []
  },
  {
   "cell_type": "code",
   "execution_count": null,
   "metadata": {
    "collapsed": true
   },
   "outputs": [],
   "source": []
  },
  {
   "cell_type": "code",
   "execution_count": 28,
   "metadata": {
    "collapsed": true
   },
   "outputs": [],
   "source": [
    "token = 'TsyTwzyveAMuc0Ifwmk1cMsRWkI4B2peto7ro6nSGBOsBgY7TJ96f2XDmpHxr6bm'"
   ]
  },
  {
   "cell_type": "code",
   "execution_count": 34,
   "metadata": {
    "collapsed": true
   },
   "outputs": [],
   "source": [
    "import merchant_sdk\n",
    "merchant_sdk.api.PricewarsRequester.add_api_token(token)"
   ]
  },
  {
   "cell_type": "code",
   "execution_count": 35,
   "metadata": {
    "collapsed": true
   },
   "outputs": [],
   "source": [
    "prod_api = merchant_sdk.api.ProducerApi()\n",
    "market_api = merchant_sdk.api.MarketplaceApi()"
   ]
  },
  {
   "cell_type": "code",
   "execution_count": 36,
   "metadata": {
    "collapsed": false
   },
   "outputs": [
    {
     "name": "stdout",
     "output_type": "stream",
     "text": [
      "request <class 'merchant_sdk.api.ProducerApi.ProducerApi'> get buy () {'params': {'merchant_token': 'TsyTwzyveAMuc0Ifwmk1cMsRWkI4B2peto7ro6nSGBOsBgY7TJ96f2XDmpHxr6bm'}}\n",
      "response status(200) {\"uid\":44,\"product_id\":4,\"name\":\"CD_4\",\"quality\":4,\"price\":6,\"stock\":-1,\"time_to_live\":-1,\"start_of_lifetime\":-1,\"amount\":1,\"signature\":\"AV/seiAO6rwIt4q1Hbb+npC0p+EtyybKr50gLzGt2T9wBejE3xsiF79tvdQCNuGAe8pzSO0sQIR0aSPzI7vwO14bZraqcfWCD+FsWSpbmujsR0BqcSBjAPXY5gAvnI0H7EdAanEgYwD12OYAL5yNB+xHQGpxIGMA9djmAC+cjQc=\"}\n"
     ]
    }
   ],
   "source": [
    "prd = prod_api.buy_product(merchant_token=token)"
   ]
  },
  {
   "cell_type": "code",
   "execution_count": 40,
   "metadata": {
    "collapsed": false,
    "scrolled": true
   },
   "outputs": [
    {
     "name": "stdout",
     "output_type": "stream",
     "text": [
      "request <class 'merchant_sdk.api.MarketplaceApi.MarketplaceApi'> get offers () {}\n",
      "response status(200) [{\"quality\":1,\"price\":47.00,\"amount\":96,\"offer_id\":153,\"product_id\":2,\"uid\":21,\"merchant_id\":\"uGIYiI2I3knJQ5T+aqLClVPPNQmYbIKzH0nNdCLElgw=\",\"shipping_time\":{\"standard\":5,\"prime\":1},\"prime\":true},{\"quality\":4,\"price\":38.00,\"amount\":971,\"offer_id\":107,\"product_id\":3,\"uid\":34,\"merchant_id\":\"sN7jrROVR1hljMZ5OHSLG6cKTwAxKmqDO0OAtWql7Ms=\",\"shipping_time\":{\"standard\":5,\"prime\":1},\"prime\":true},{\"quality\":4,\"price\":38.00,\"amount\":990,\"offer_id\":106,\"product_id\":3,\"uid\":34,\"merchant_id\":\"sN7jrROVR1hljMZ5OHSLG6cKTwAxKmqDO0OAtWql7Ms=\",\"shipping_time\":{\"standard\":5,\"prime\":1},\"prime\":true},{\"quality\":1,\"price\":47.00,\"amount\":985,\"offer_id\":105,\"product_id\":3,\"uid\":31,\"merchant_id\":\"sN7jrROVR1hljMZ5OHSLG6cKTwAxKmqDO0OAtWql7Ms=\",\"shipping_time\":{\"standard\":5,\"prime\":1},\"prime\":true},{\"quality\":1,\"price\":47.00,\"amount\":999,\"offer_id\":95,\"product_id\":1,\"uid\":11,\"merchant_id\":\"XUxM+XmfkUI2ZeZ2Mphwf066k46Y17X5QaiqDioocZo=\",\"shipping_time\":{\"standard\":5,\"prime\":1},\"prime\":true},{\"quality\":1,\"price\":47.00,\"amount\":529,\"offer_id\":93,\"product_id\":2,\"uid\":21,\"merchant_id\":\"sN7jrROVR1hljMZ5OHSLG6cKTwAxKmqDO0OAtWql7Ms=\",\"shipping_time\":{\"standard\":5,\"prime\":1},\"prime\":true},{\"quality\":4,\"price\":26.00,\"amount\":961,\"offer_id\":131,\"product_id\":2,\"uid\":24,\"merchant_id\":\"XUxM+XmfkUI2ZeZ2Mphwf066k46Y17X5QaiqDioocZo=\",\"shipping_time\":{\"standard\":5,\"prime\":1},\"prime\":true},{\"quality\":1,\"price\":47.00,\"amount\":1000,\"offer_id\":108,\"product_id\":1,\"uid\":11,\"merchant_id\":\"sN7jrROVR1hljMZ5OHSLG6cKTwAxKmqDO0OAtWql7Ms=\",\"shipping_time\":{\"standard\":5,\"prime\":1},\"prime\":true},{\"quality\":4,\"price\":38.00,\"amount\":1,\"offer_id\":162,\"product_id\":4,\"uid\":44,\"merchant_id\":\"sN7jrROVR1hljMZ5OHSLG6cKTwAxKmqDO0OAtWql7Ms=\",\"shipping_time\":{\"standard\":5,\"prime\":1},\"prime\":true},{\"quality\":4,\"price\":100.00,\"amount\":1,\"offer_id\":169,\"product_id\":4,\"uid\":44,\"merchant_id\":\"GN6J4LDjeGNl16x86V+dJMIeq/aJqsBCG2ZQrVmnR3o=\",\"shipping_time\":{\"standard\":3},\"prime\":false}]\n"
     ]
    },
    {
     "data": {
      "text/plain": [
       "100.0"
      ]
     },
     "execution_count": 40,
     "metadata": {},
     "output_type": "execute_result"
    }
   ],
   "source": [
    "offers = market_api.get_offers()\n",
    "max(offer.price for offer in offers)"
   ]
  },
  {
   "cell_type": "code",
   "execution_count": 42,
   "metadata": {
    "collapsed": false,
    "scrolled": false
   },
   "outputs": [
    {
     "name": "stdout",
     "output_type": "stream",
     "text": [
      "request <class 'merchant_sdk.api.ProducerApi.ProducerApi'> get buy () {'params': {'merchant_token': 'TsyTwzyveAMuc0Ifwmk1cMsRWkI4B2peto7ro6nSGBOsBgY7TJ96f2XDmpHxr6bm'}}\n",
      "response status(200) {\"uid\":21,\"product_id\":2,\"name\":\"CD_2\",\"quality\":1,\"price\":15,\"stock\":-1,\"time_to_live\":-1,\"start_of_lifetime\":-1,\"amount\":1,\"signature\":\"/TQ8+LePE6wHXWPqGCfb2xcHwpf0SGUitzgOdvxn4I/F5sBLi5jiBOukwRSzBmtjkr5pjz0pq0QlGHkgTWBxHosizPY21x6/pYPp7IomLfiPZi/h9/XTJh3mD6cMxo5ej2Yv4ff10yYd5g+nDMaOXo9mL+H39dMmHeYPpwzGjl4=\"}\n",
      "{\"shipping_time\": {\"standard\": 3}, \"uid\": 21, \"quality\": 1, \"offer_id\": -1, \"prime\": false, \"product_id\": 2, \"merchant_id\": \"\", \"amount\": 1, \"signature\": \"/TQ8+LePE6wHXWPqGCfb2xcHwpf0SGUitzgOdvxn4I/F5sBLi5jiBOukwRSzBmtjkr5pjz0pq0QlGHkgTWBxHosizPY21x6/pYPp7IomLfiPZi/h9/XTJh3mD6cMxo5ej2Yv4ff10yYd5g+nDMaOXo9mL+H39dMmHeYPpwzGjl4=\", \"price\": 100.0}\n",
      "request <class 'merchant_sdk.api.MarketplaceApi.MarketplaceApi'> post offers () {'json': {'shipping_time': {'standard': 3}, 'uid': 21, 'quality': 1, 'offer_id': -1, 'prime': False, 'product_id': 2, 'merchant_id': '', 'amount': 1, 'signature': '/TQ8+LePE6wHXWPqGCfb2xcHwpf0SGUitzgOdvxn4I/F5sBLi5jiBOukwRSzBmtjkr5pjz0pq0QlGHkgTWBxHosizPY21x6/pYPp7IomLfiPZi/h9/XTJh3mD6cMxo5ej2Yv4ff10yYd5g+nDMaOXo9mL+H39dMmHeYPpwzGjl4=', 'price': 100.0}}\n",
      "response status(201) {\"quality\":1,\"price\":100.0,\"amount\":1,\"offer_id\":170,\"product_id\":2,\"uid\":21,\"merchant_id\":\"GN6J4LDjeGNl16x86V+dJMIeq/aJqsBCG2ZQrVmnR3o=\",\"shipping_time\":{\"standard\":3},\"prime\":false}\n",
      "request <class 'merchant_sdk.api.ProducerApi.ProducerApi'> get buy () {'params': {'merchant_token': 'TsyTwzyveAMuc0Ifwmk1cMsRWkI4B2peto7ro6nSGBOsBgY7TJ96f2XDmpHxr6bm'}}\n",
      "response status(200) {\"uid\":21,\"product_id\":2,\"name\":\"CD_2\",\"quality\":1,\"price\":15,\"stock\":-1,\"time_to_live\":-1,\"start_of_lifetime\":-1,\"amount\":1,\"signature\":\"/TQ8+LePE6wHXWPqGCfb2xcHwpf0SGUitzgOdvxn4I/F5sBLi5jiBOukwRSzBmtjkr5pjz0pq0QlGHkgTWBxHjYgiPvRsijtp58sOk5ZWxWPZi/h9/XTJh3mD6cMxo5ej2Yv4ff10yYd5g+nDMaOXo9mL+H39dMmHeYPpwzGjl4=\"}\n",
      "{\"shipping_time\": {\"standard\": 3}, \"uid\": 21, \"quality\": 1, \"offer_id\": -1, \"prime\": false, \"product_id\": 2, \"merchant_id\": \"\", \"amount\": 1, \"signature\": \"/TQ8+LePE6wHXWPqGCfb2xcHwpf0SGUitzgOdvxn4I/F5sBLi5jiBOukwRSzBmtjkr5pjz0pq0QlGHkgTWBxHjYgiPvRsijtp58sOk5ZWxWPZi/h9/XTJh3mD6cMxo5ej2Yv4ff10yYd5g+nDMaOXo9mL+H39dMmHeYPpwzGjl4=\", \"price\": 100.0}\n",
      "request <class 'merchant_sdk.api.MarketplaceApi.MarketplaceApi'> post offers () {'json': {'shipping_time': {'standard': 3}, 'uid': 21, 'quality': 1, 'offer_id': -1, 'prime': False, 'product_id': 2, 'merchant_id': '', 'amount': 1, 'signature': '/TQ8+LePE6wHXWPqGCfb2xcHwpf0SGUitzgOdvxn4I/F5sBLi5jiBOukwRSzBmtjkr5pjz0pq0QlGHkgTWBxHjYgiPvRsijtp58sOk5ZWxWPZi/h9/XTJh3mD6cMxo5ej2Yv4ff10yYd5g+nDMaOXo9mL+H39dMmHeYPpwzGjl4=', 'price': 100.0}}\n",
      "response status(201) {\"quality\":1,\"price\":100.0,\"amount\":1,\"offer_id\":171,\"product_id\":2,\"uid\":21,\"merchant_id\":\"GN6J4LDjeGNl16x86V+dJMIeq/aJqsBCG2ZQrVmnR3o=\",\"shipping_time\":{\"standard\":3},\"prime\":false}\n",
      "request <class 'merchant_sdk.api.ProducerApi.ProducerApi'> get buy () {'params': {'merchant_token': 'TsyTwzyveAMuc0Ifwmk1cMsRWkI4B2peto7ro6nSGBOsBgY7TJ96f2XDmpHxr6bm'}}\n",
      "response status(200) {\"uid\":13,\"product_id\":1,\"name\":\"CD_1\",\"quality\":3,\"price\":9,\"stock\":-1,\"time_to_live\":-1,\"start_of_lifetime\":-1,\"amount\":1,\"signature\":\"cZay0MRHw/c4YEzWuEy30hcHwpf0SGUitzgOdvxn4I/F5sBLi5jiBOukwRSzBmtjkr5pjz0pq0QlGHkgTWBxHpbzyL172GyV4aBs+xMyswWPZi/h9/XTJh3mD6cMxo5ej2Yv4ff10yYd5g+nDMaOXo9mL+H39dMmHeYPpwzGjl4=\"}\n",
      "{\"shipping_time\": {\"standard\": 3}, \"uid\": 13, \"quality\": 3, \"offer_id\": -1, \"prime\": false, \"product_id\": 1, \"merchant_id\": \"\", \"amount\": 1, \"signature\": \"cZay0MRHw/c4YEzWuEy30hcHwpf0SGUitzgOdvxn4I/F5sBLi5jiBOukwRSzBmtjkr5pjz0pq0QlGHkgTWBxHpbzyL172GyV4aBs+xMyswWPZi/h9/XTJh3mD6cMxo5ej2Yv4ff10yYd5g+nDMaOXo9mL+H39dMmHeYPpwzGjl4=\", \"price\": 100.0}\n",
      "request <class 'merchant_sdk.api.MarketplaceApi.MarketplaceApi'> post offers () {'json': {'shipping_time': {'standard': 3}, 'uid': 13, 'quality': 3, 'offer_id': -1, 'prime': False, 'product_id': 1, 'merchant_id': '', 'amount': 1, 'signature': 'cZay0MRHw/c4YEzWuEy30hcHwpf0SGUitzgOdvxn4I/F5sBLi5jiBOukwRSzBmtjkr5pjz0pq0QlGHkgTWBxHpbzyL172GyV4aBs+xMyswWPZi/h9/XTJh3mD6cMxo5ej2Yv4ff10yYd5g+nDMaOXo9mL+H39dMmHeYPpwzGjl4=', 'price': 100.0}}\n",
      "response status(201) {\"quality\":3,\"price\":100.0,\"amount\":1,\"offer_id\":172,\"product_id\":1,\"uid\":13,\"merchant_id\":\"GN6J4LDjeGNl16x86V+dJMIeq/aJqsBCG2ZQrVmnR3o=\",\"shipping_time\":{\"standard\":3},\"prime\":false}\n",
      "request <class 'merchant_sdk.api.ProducerApi.ProducerApi'> get buy () {'params': {'merchant_token': 'TsyTwzyveAMuc0Ifwmk1cMsRWkI4B2peto7ro6nSGBOsBgY7TJ96f2XDmpHxr6bm'}}\n",
      "response status(200) {\"uid\":44,\"product_id\":4,\"name\":\"CD_4\",\"quality\":4,\"price\":6,\"stock\":-1,\"time_to_live\":-1,\"start_of_lifetime\":-1,\"amount\":1,\"signature\":\"yJXJ8ydSzKjADHNXQGpEbBcHwpf0SGUitzgOdvxn4I/F5sBLi5jiBOukwRSzBmtjkr5pjz0pq0QlGHkgTWBxHl9FSERY5hTFRzLgJ7MLieCPZi/h9/XTJh3mD6cMxo5ej2Yv4ff10yYd5g+nDMaOXo9mL+H39dMmHeYPpwzGjl4=\"}\n",
      "{\"shipping_time\": {\"standard\": 3}, \"uid\": 44, \"quality\": 4, \"offer_id\": -1, \"prime\": false, \"product_id\": 4, \"merchant_id\": \"\", \"amount\": 1, \"signature\": \"yJXJ8ydSzKjADHNXQGpEbBcHwpf0SGUitzgOdvxn4I/F5sBLi5jiBOukwRSzBmtjkr5pjz0pq0QlGHkgTWBxHl9FSERY5hTFRzLgJ7MLieCPZi/h9/XTJh3mD6cMxo5ej2Yv4ff10yYd5g+nDMaOXo9mL+H39dMmHeYPpwzGjl4=\", \"price\": 100.0}\n",
      "request <class 'merchant_sdk.api.MarketplaceApi.MarketplaceApi'> post offers () {'json': {'shipping_time': {'standard': 3}, 'uid': 44, 'quality': 4, 'offer_id': -1, 'prime': False, 'product_id': 4, 'merchant_id': '', 'amount': 1, 'signature': 'yJXJ8ydSzKjADHNXQGpEbBcHwpf0SGUitzgOdvxn4I/F5sBLi5jiBOukwRSzBmtjkr5pjz0pq0QlGHkgTWBxHl9FSERY5hTFRzLgJ7MLieCPZi/h9/XTJh3mD6cMxo5ej2Yv4ff10yYd5g+nDMaOXo9mL+H39dMmHeYPpwzGjl4=', 'price': 100.0}}\n",
      "response status(201) {\"quality\":4,\"price\":100.0,\"amount\":1,\"offer_id\":173,\"product_id\":4,\"uid\":44,\"merchant_id\":\"GN6J4LDjeGNl16x86V+dJMIeq/aJqsBCG2ZQrVmnR3o=\",\"shipping_time\":{\"standard\":3},\"prime\":false}\n",
      "request <class 'merchant_sdk.api.ProducerApi.ProducerApi'> get buy () {'params': {'merchant_token': 'TsyTwzyveAMuc0Ifwmk1cMsRWkI4B2peto7ro6nSGBOsBgY7TJ96f2XDmpHxr6bm'}}\n",
      "response status(200) {\"uid\":31,\"product_id\":3,\"name\":\"CD_3\",\"quality\":1,\"price\":15,\"stock\":-1,\"time_to_live\":-1,\"start_of_lifetime\":-1,\"amount\":1,\"signature\":\"NRP+6ydsJKp2qw+5Wy4PoRcHwpf0SGUitzgOdvxn4I/F5sBLi5jiBOukwRSzBmtjkr5pjz0pq0QlGHkgTWBxHvYqVpbB6T+8MnzN6xGu2TqPZi/h9/XTJh3mD6cMxo5ej2Yv4ff10yYd5g+nDMaOXo9mL+H39dMmHeYPpwzGjl4=\"}\n",
      "{\"shipping_time\": {\"standard\": 3}, \"uid\": 31, \"quality\": 1, \"offer_id\": -1, \"prime\": false, \"product_id\": 3, \"merchant_id\": \"\", \"amount\": 1, \"signature\": \"NRP+6ydsJKp2qw+5Wy4PoRcHwpf0SGUitzgOdvxn4I/F5sBLi5jiBOukwRSzBmtjkr5pjz0pq0QlGHkgTWBxHvYqVpbB6T+8MnzN6xGu2TqPZi/h9/XTJh3mD6cMxo5ej2Yv4ff10yYd5g+nDMaOXo9mL+H39dMmHeYPpwzGjl4=\", \"price\": 100.0}\n",
      "request <class 'merchant_sdk.api.MarketplaceApi.MarketplaceApi'> post offers () {'json': {'shipping_time': {'standard': 3}, 'uid': 31, 'quality': 1, 'offer_id': -1, 'prime': False, 'product_id': 3, 'merchant_id': '', 'amount': 1, 'signature': 'NRP+6ydsJKp2qw+5Wy4PoRcHwpf0SGUitzgOdvxn4I/F5sBLi5jiBOukwRSzBmtjkr5pjz0pq0QlGHkgTWBxHvYqVpbB6T+8MnzN6xGu2TqPZi/h9/XTJh3mD6cMxo5ej2Yv4ff10yYd5g+nDMaOXo9mL+H39dMmHeYPpwzGjl4=', 'price': 100.0}}\n",
      "response status(201) {\"quality\":1,\"price\":100.0,\"amount\":1,\"offer_id\":174,\"product_id\":3,\"uid\":31,\"merchant_id\":\"GN6J4LDjeGNl16x86V+dJMIeq/aJqsBCG2ZQrVmnR3o=\",\"shipping_time\":{\"standard\":3},\"prime\":false}\n",
      "request <class 'merchant_sdk.api.ProducerApi.ProducerApi'> get buy () {'params': {'merchant_token': 'TsyTwzyveAMuc0Ifwmk1cMsRWkI4B2peto7ro6nSGBOsBgY7TJ96f2XDmpHxr6bm'}}\n",
      "response status(200) {\"uid\":31,\"product_id\":3,\"name\":\"CD_3\",\"quality\":1,\"price\":15,\"stock\":-1,\"time_to_live\":-1,\"start_of_lifetime\":-1,\"amount\":1,\"signature\":\"NRP+6ydsJKp2qw+5Wy4PoRcHwpf0SGUitzgOdvxn4I/F5sBLi5jiBOukwRSzBmtjkr5pjz0pq0QlGHkgTWBxHhWTsElbpiqkPR6vBPLn0r+PZi/h9/XTJh3mD6cMxo5ej2Yv4ff10yYd5g+nDMaOXo9mL+H39dMmHeYPpwzGjl4=\"}\n",
      "{\"shipping_time\": {\"standard\": 3}, \"uid\": 31, \"quality\": 1, \"offer_id\": -1, \"prime\": false, \"product_id\": 3, \"merchant_id\": \"\", \"amount\": 1, \"signature\": \"NRP+6ydsJKp2qw+5Wy4PoRcHwpf0SGUitzgOdvxn4I/F5sBLi5jiBOukwRSzBmtjkr5pjz0pq0QlGHkgTWBxHhWTsElbpiqkPR6vBPLn0r+PZi/h9/XTJh3mD6cMxo5ej2Yv4ff10yYd5g+nDMaOXo9mL+H39dMmHeYPpwzGjl4=\", \"price\": 100.0}\n",
      "request <class 'merchant_sdk.api.MarketplaceApi.MarketplaceApi'> post offers () {'json': {'shipping_time': {'standard': 3}, 'uid': 31, 'quality': 1, 'offer_id': -1, 'prime': False, 'product_id': 3, 'merchant_id': '', 'amount': 1, 'signature': 'NRP+6ydsJKp2qw+5Wy4PoRcHwpf0SGUitzgOdvxn4I/F5sBLi5jiBOukwRSzBmtjkr5pjz0pq0QlGHkgTWBxHhWTsElbpiqkPR6vBPLn0r+PZi/h9/XTJh3mD6cMxo5ej2Yv4ff10yYd5g+nDMaOXo9mL+H39dMmHeYPpwzGjl4=', 'price': 100.0}}\n",
      "response status(201) {\"quality\":1,\"price\":100.0,\"amount\":1,\"offer_id\":175,\"product_id\":3,\"uid\":31,\"merchant_id\":\"GN6J4LDjeGNl16x86V+dJMIeq/aJqsBCG2ZQrVmnR3o=\",\"shipping_time\":{\"standard\":3},\"prime\":false}\n",
      "request <class 'merchant_sdk.api.ProducerApi.ProducerApi'> get buy () {'params': {'merchant_token': 'TsyTwzyveAMuc0Ifwmk1cMsRWkI4B2peto7ro6nSGBOsBgY7TJ96f2XDmpHxr6bm'}}\n",
      "response status(200) {\"uid\":44,\"product_id\":4,\"name\":\"CD_4\",\"quality\":4,\"price\":6,\"stock\":-1,\"time_to_live\":-1,\"start_of_lifetime\":-1,\"amount\":1,\"signature\":\"yJXJ8ydSzKjADHNXQGpEbBcHwpf0SGUitzgOdvxn4I/F5sBLi5jiBOukwRSzBmtjkr5pjz0pq0QlGHkgTWBxHqtyB/askLmuntHxgRAZdKKPZi/h9/XTJh3mD6cMxo5ej2Yv4ff10yYd5g+nDMaOXo9mL+H39dMmHeYPpwzGjl4=\"}\n",
      "{\"shipping_time\": {\"standard\": 3}, \"uid\": 44, \"quality\": 4, \"offer_id\": -1, \"prime\": false, \"product_id\": 4, \"merchant_id\": \"\", \"amount\": 1, \"signature\": \"yJXJ8ydSzKjADHNXQGpEbBcHwpf0SGUitzgOdvxn4I/F5sBLi5jiBOukwRSzBmtjkr5pjz0pq0QlGHkgTWBxHqtyB/askLmuntHxgRAZdKKPZi/h9/XTJh3mD6cMxo5ej2Yv4ff10yYd5g+nDMaOXo9mL+H39dMmHeYPpwzGjl4=\", \"price\": 100.0}\n",
      "request <class 'merchant_sdk.api.MarketplaceApi.MarketplaceApi'> post offers () {'json': {'shipping_time': {'standard': 3}, 'uid': 44, 'quality': 4, 'offer_id': -1, 'prime': False, 'product_id': 4, 'merchant_id': '', 'amount': 1, 'signature': 'yJXJ8ydSzKjADHNXQGpEbBcHwpf0SGUitzgOdvxn4I/F5sBLi5jiBOukwRSzBmtjkr5pjz0pq0QlGHkgTWBxHqtyB/askLmuntHxgRAZdKKPZi/h9/XTJh3mD6cMxo5ej2Yv4ff10yYd5g+nDMaOXo9mL+H39dMmHeYPpwzGjl4=', 'price': 100.0}}\n",
      "response status(201) {\"quality\":4,\"price\":100.0,\"amount\":1,\"offer_id\":176,\"product_id\":4,\"uid\":44,\"merchant_id\":\"GN6J4LDjeGNl16x86V+dJMIeq/aJqsBCG2ZQrVmnR3o=\",\"shipping_time\":{\"standard\":3},\"prime\":false}\n",
      "request <class 'merchant_sdk.api.ProducerApi.ProducerApi'> get buy () {'params': {'merchant_token': 'TsyTwzyveAMuc0Ifwmk1cMsRWkI4B2peto7ro6nSGBOsBgY7TJ96f2XDmpHxr6bm'}}\n",
      "response status(200) {\"uid\":41,\"product_id\":4,\"name\":\"CD_4\",\"quality\":1,\"price\":15,\"stock\":-1,\"time_to_live\":-1,\"start_of_lifetime\":-1,\"amount\":1,\"signature\":\"2eHQiEk+IxRQgFUo4pfcsxcHwpf0SGUitzgOdvxn4I/F5sBLi5jiBOukwRSzBmtjkr5pjz0pq0QlGHkgTWBxHgZdtmltxRZRCdLJDlUTaD+PZi/h9/XTJh3mD6cMxo5ej2Yv4ff10yYd5g+nDMaOXo9mL+H39dMmHeYPpwzGjl4=\"}\n",
      "{\"shipping_time\": {\"standard\": 3}, \"uid\": 41, \"quality\": 1, \"offer_id\": -1, \"prime\": false, \"product_id\": 4, \"merchant_id\": \"\", \"amount\": 1, \"signature\": \"2eHQiEk+IxRQgFUo4pfcsxcHwpf0SGUitzgOdvxn4I/F5sBLi5jiBOukwRSzBmtjkr5pjz0pq0QlGHkgTWBxHgZdtmltxRZRCdLJDlUTaD+PZi/h9/XTJh3mD6cMxo5ej2Yv4ff10yYd5g+nDMaOXo9mL+H39dMmHeYPpwzGjl4=\", \"price\": 100.0}\n",
      "request <class 'merchant_sdk.api.MarketplaceApi.MarketplaceApi'> post offers () {'json': {'shipping_time': {'standard': 3}, 'uid': 41, 'quality': 1, 'offer_id': -1, 'prime': False, 'product_id': 4, 'merchant_id': '', 'amount': 1, 'signature': '2eHQiEk+IxRQgFUo4pfcsxcHwpf0SGUitzgOdvxn4I/F5sBLi5jiBOukwRSzBmtjkr5pjz0pq0QlGHkgTWBxHgZdtmltxRZRCdLJDlUTaD+PZi/h9/XTJh3mD6cMxo5ej2Yv4ff10yYd5g+nDMaOXo9mL+H39dMmHeYPpwzGjl4=', 'price': 100.0}}\n",
      "response status(201) {\"quality\":1,\"price\":100.0,\"amount\":1,\"offer_id\":177,\"product_id\":4,\"uid\":41,\"merchant_id\":\"GN6J4LDjeGNl16x86V+dJMIeq/aJqsBCG2ZQrVmnR3o=\",\"shipping_time\":{\"standard\":3},\"prime\":false}\n",
      "request <class 'merchant_sdk.api.ProducerApi.ProducerApi'> get buy () {'params': {'merchant_token': 'TsyTwzyveAMuc0Ifwmk1cMsRWkI4B2peto7ro6nSGBOsBgY7TJ96f2XDmpHxr6bm'}}\n",
      "response status(200) {\"uid\":22,\"product_id\":2,\"name\":\"CD_2\",\"quality\":2,\"price\":12,\"stock\":-1,\"time_to_live\":-1,\"start_of_lifetime\":-1,\"amount\":1,\"signature\":\"5XnakSKiShd/up7uuQ4JwhcHwpf0SGUitzgOdvxn4I/F5sBLi5jiBOukwRSzBmtjkr5pjz0pq0QlGHkgTWBxHo1otX+JJZ6BssjNrHp4EAOPZi/h9/XTJh3mD6cMxo5ej2Yv4ff10yYd5g+nDMaOXo9mL+H39dMmHeYPpwzGjl4=\"}\n",
      "{\"shipping_time\": {\"standard\": 3}, \"uid\": 22, \"quality\": 2, \"offer_id\": -1, \"prime\": false, \"product_id\": 2, \"merchant_id\": \"\", \"amount\": 1, \"signature\": \"5XnakSKiShd/up7uuQ4JwhcHwpf0SGUitzgOdvxn4I/F5sBLi5jiBOukwRSzBmtjkr5pjz0pq0QlGHkgTWBxHo1otX+JJZ6BssjNrHp4EAOPZi/h9/XTJh3mD6cMxo5ej2Yv4ff10yYd5g+nDMaOXo9mL+H39dMmHeYPpwzGjl4=\", \"price\": 100.0}\n",
      "request <class 'merchant_sdk.api.MarketplaceApi.MarketplaceApi'> post offers () {'json': {'shipping_time': {'standard': 3}, 'uid': 22, 'quality': 2, 'offer_id': -1, 'prime': False, 'product_id': 2, 'merchant_id': '', 'amount': 1, 'signature': '5XnakSKiShd/up7uuQ4JwhcHwpf0SGUitzgOdvxn4I/F5sBLi5jiBOukwRSzBmtjkr5pjz0pq0QlGHkgTWBxHo1otX+JJZ6BssjNrHp4EAOPZi/h9/XTJh3mD6cMxo5ej2Yv4ff10yYd5g+nDMaOXo9mL+H39dMmHeYPpwzGjl4=', 'price': 100.0}}\n",
      "response status(201) {\"quality\":2,\"price\":100.0,\"amount\":1,\"offer_id\":178,\"product_id\":2,\"uid\":22,\"merchant_id\":\"GN6J4LDjeGNl16x86V+dJMIeq/aJqsBCG2ZQrVmnR3o=\",\"shipping_time\":{\"standard\":3},\"prime\":false}\n",
      "request <class 'merchant_sdk.api.ProducerApi.ProducerApi'> get buy () {'params': {'merchant_token': 'TsyTwzyveAMuc0Ifwmk1cMsRWkI4B2peto7ro6nSGBOsBgY7TJ96f2XDmpHxr6bm'}}\n",
      "response status(200) {\"uid\":24,\"product_id\":2,\"name\":\"CD_2\",\"quality\":4,\"price\":6,\"stock\":-1,\"time_to_live\":-1,\"start_of_lifetime\":-1,\"amount\":1,\"signature\":\"WzCbtQNDKfIdaqJtEoF7NBcHwpf0SGUitzgOdvxn4I/F5sBLi5jiBOukwRSzBmtjkr5pjz0pq0QlGHkgTWBxHqh5U3zm+qZvsgwPQ6I5XC2PZi/h9/XTJh3mD6cMxo5ej2Yv4ff10yYd5g+nDMaOXo9mL+H39dMmHeYPpwzGjl4=\"}\n",
      "{\"shipping_time\": {\"standard\": 3}, \"uid\": 24, \"quality\": 4, \"offer_id\": -1, \"prime\": false, \"product_id\": 2, \"merchant_id\": \"\", \"amount\": 1, \"signature\": \"WzCbtQNDKfIdaqJtEoF7NBcHwpf0SGUitzgOdvxn4I/F5sBLi5jiBOukwRSzBmtjkr5pjz0pq0QlGHkgTWBxHqh5U3zm+qZvsgwPQ6I5XC2PZi/h9/XTJh3mD6cMxo5ej2Yv4ff10yYd5g+nDMaOXo9mL+H39dMmHeYPpwzGjl4=\", \"price\": 100.0}\n",
      "request <class 'merchant_sdk.api.MarketplaceApi.MarketplaceApi'> post offers () {'json': {'shipping_time': {'standard': 3}, 'uid': 24, 'quality': 4, 'offer_id': -1, 'prime': False, 'product_id': 2, 'merchant_id': '', 'amount': 1, 'signature': 'WzCbtQNDKfIdaqJtEoF7NBcHwpf0SGUitzgOdvxn4I/F5sBLi5jiBOukwRSzBmtjkr5pjz0pq0QlGHkgTWBxHqh5U3zm+qZvsgwPQ6I5XC2PZi/h9/XTJh3mD6cMxo5ej2Yv4ff10yYd5g+nDMaOXo9mL+H39dMmHeYPpwzGjl4=', 'price': 100.0}}\n",
      "response status(201) {\"quality\":4,\"price\":100.0,\"amount\":1,\"offer_id\":179,\"product_id\":2,\"uid\":24,\"merchant_id\":\"GN6J4LDjeGNl16x86V+dJMIeq/aJqsBCG2ZQrVmnR3o=\",\"shipping_time\":{\"standard\":3},\"prime\":false}\n"
     ]
    }
   ],
   "source": [
    "for i in range(10):\n",
    "    prd = prod_api.buy_product(merchant_token=token)\n",
    "    offer = merchant_sdk.models.Offer.from_product(prd)\n",
    "    offer.price = 100.0\n",
    "    offer.shipping_time = {\n",
    "        'standard': 3\n",
    "    }\n",
    "    print(offer)\n",
    "    market_api.add_offer(offer)"
   ]
  },
  {
   "cell_type": "code",
   "execution_count": 39,
   "metadata": {
    "collapsed": false,
    "scrolled": true
   },
   "outputs": [
    {
     "name": "stdout",
     "output_type": "stream",
     "text": [
      "request <class 'merchant_sdk.api.MarketplaceApi.MarketplaceApi'> post offers () {'json': {'shipping_time': {'standard': 3}, 'uid': 44, 'quality': 4, 'offer_id': -1, 'prime': False, 'product_id': 4, 'merchant_id': '', 'amount': 1, 'signature': 'AV/seiAO6rwIt4q1Hbb+npC0p+EtyybKr50gLzGt2T9wBejE3xsiF79tvdQCNuGAe8pzSO0sQIR0aSPzI7vwO14bZraqcfWCD+FsWSpbmujsR0BqcSBjAPXY5gAvnI0H7EdAanEgYwD12OYAL5yNB+xHQGpxIGMA9djmAC+cjQc=', 'price': 100.0}}\n",
      "response status(201) {\"quality\":4,\"price\":100.0,\"amount\":1,\"offer_id\":169,\"product_id\":4,\"uid\":44,\"merchant_id\":\"GN6J4LDjeGNl16x86V+dJMIeq/aJqsBCG2ZQrVmnR3o=\",\"shipping_time\":{\"standard\":3},\"prime\":false}\n"
     ]
    },
    {
     "data": {
      "text/plain": [
       "{\"shipping_time\": {\"standard\": 3}, \"uid\": 44, \"quality\": 4, \"offer_id\": 169, \"prime\": false, \"product_id\": 4, \"merchant_id\": \"GN6J4LDjeGNl16x86V+dJMIeq/aJqsBCG2ZQrVmnR3o=\", \"amount\": 1, \"signature\": \"\", \"price\": 100.0}"
      ]
     },
     "execution_count": 39,
     "metadata": {},
     "output_type": "execute_result"
    }
   ],
   "source": []
  },
  {
   "cell_type": "code",
   "execution_count": null,
   "metadata": {
    "collapsed": true
   },
   "outputs": [],
   "source": [
    "market_api.update_offer()"
   ]
  }
 ],
 "metadata": {
  "kernelspec": {
   "display_name": "Python 3",
   "language": "python",
   "name": "python3"
  },
  "language_info": {
   "codemirror_mode": {
    "name": "ipython",
    "version": 3
   },
   "file_extension": ".py",
   "mimetype": "text/x-python",
   "name": "python",
   "nbconvert_exporter": "python",
   "pygments_lexer": "ipython3",
   "version": "3.5.2"
  }
 },
 "nbformat": 4,
 "nbformat_minor": 2
}
